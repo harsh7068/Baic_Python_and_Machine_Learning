{
 "cells": [
  {
   "cell_type": "markdown",
   "id": "0cb18d7d",
   "metadata": {},
   "source": [
    "# File Handling"
   ]
  },
  {
   "cell_type": "code",
   "execution_count": 1,
   "id": "a316769b",
   "metadata": {},
   "outputs": [],
   "source": [
    "#text, excel, cvs, pdf\n",
    "\n",
    "#open()\n",
    "#file read\n",
    "#read()\n",
    "#seek()\n",
    "#tell()\n",
    "#readline()\n",
    "#readlines()\n",
    "#with open\n",
    "#close()\n"
   ]
  },
  {
   "cell_type": "code",
   "execution_count": 5,
   "id": "d5ae75b1",
   "metadata": {},
   "outputs": [
    {
     "name": "stdout",
     "output_type": "stream",
     "text": [
      "{\\rtf1\\ansi\\ansicpg1252\\cocoartf2639\n",
      "\\cocoatextscaling0\\cocoaplatform0{\\fonttbl\\f0\\fswiss\\fcharset0 Helvetica;}\n",
      "{\\colortbl;\\red255\\green255\\blue255;}\n",
      "{\\*\\expandedcolortbl;;}\n",
      "\\paperw11900\\paperh16840\\margl1440\\margr1440\\vieww11520\\viewh8400\\viewkind0\n",
      "\\pard\\tx566\\tx1133\\tx1700\\tx2267\\tx2834\\tx3401\\tx3968\\tx4535\\tx5102\\tx5669\\tx6236\\tx6803\\pardirnatural\\partightenfactor0\n",
      "\n",
      "\\f0\\fs24 \\cf0 Hello\\\n",
      "This is harsh}\n"
     ]
    }
   ],
   "source": [
    "f=open('test.rtf')\n",
    "print(f.read())\n",
    "f.close()"
   ]
  },
  {
   "cell_type": "code",
   "execution_count": 7,
   "id": "8fce7571",
   "metadata": {},
   "outputs": [
    {
     "name": "stdout",
     "output_type": "stream",
     "text": [
      "Hello\n",
      "\n"
     ]
    }
   ],
   "source": [
    "f=open('ting ting.txt')\n",
    "print(f.read())\n",
    "f.close()"
   ]
  },
  {
   "cell_type": "code",
   "execution_count": 14,
   "id": "54e60912",
   "metadata": {},
   "outputs": [
    {
     "name": "stdout",
     "output_type": "stream",
     "text": [
      "Hello\n",
      "This is harsh\n",
      "\n"
     ]
    }
   ],
   "source": [
    "f=open('//Users//MyData//test.txt')\n",
    "print(f.read())\n",
    "f.close()"
   ]
  },
  {
   "cell_type": "code",
   "execution_count": 13,
   "id": "93fd7a01",
   "metadata": {},
   "outputs": [
    {
     "name": "stdout",
     "output_type": "stream",
     "text": [
      "Cursor position start at: 0\n",
      "Hello\n",
      "\n",
      "Cursor position stop at: 7\n"
     ]
    }
   ],
   "source": [
    "f=open('ting ting.txt')\n",
    "print(f'Cursor position start at: {f.tell()}')\n",
    "print(f.read())\n",
    "print(f'Cursor position stop at: {f.tell()}')\n",
    "f.close()"
   ]
  },
  {
   "cell_type": "code",
   "execution_count": 16,
   "id": "fcd39824",
   "metadata": {},
   "outputs": [
    {
     "name": "stdout",
     "output_type": "stream",
     "text": [
      "Cursor position start at: 0\n",
      "\n",
      "\n",
      "Hello\n",
      "\n",
      "\n",
      "\n",
      "Cursor position stop at: 7\n"
     ]
    }
   ],
   "source": [
    "f=open('ting ting.txt')\n",
    "print(f'Cursor position start at: {f.tell()}')\n",
    "print('\\n')\n",
    "print(f.read())\n",
    "print('\\n')\n",
    "print(f'Cursor position stop at: {f.tell()}')\n",
    "f.close()"
   ]
  },
  {
   "cell_type": "code",
   "execution_count": 18,
   "id": "5674d371",
   "metadata": {},
   "outputs": [
    {
     "name": "stdout",
     "output_type": "stream",
     "text": [
      "Cursor position start at: 0\n",
      "\n",
      "\n",
      "Hello\n",
      "\n",
      "\n",
      "\n",
      "Cursor position stop at: 7\n",
      "Hello\n",
      "\n"
     ]
    }
   ],
   "source": [
    "f=open('ting ting.txt')\n",
    "print(f'Cursor position start at: {f.tell()}')\n",
    "print('\\n')\n",
    "print(f.read())\n",
    "print('\\n')\n",
    "print(f'Cursor position stop at: {f.tell()}')\n",
    "f.seek(0)\n",
    "print(f.read())\n",
    "f.close()"
   ]
  },
  {
   "cell_type": "code",
   "execution_count": 20,
   "id": "f33cc35f",
   "metadata": {},
   "outputs": [
    {
     "name": "stdout",
     "output_type": "stream",
     "text": [
      "Cursor position start at: 0\n",
      "\n",
      "\n",
      "Hello\n",
      "\n",
      "\n",
      "\n",
      "Cursor position stop at: 7\n",
      "lo\n",
      "\n"
     ]
    }
   ],
   "source": [
    "f=open('ting ting.txt')\n",
    "print(f'Cursor position start at: {f.tell()}')\n",
    "print('\\n')\n",
    "print(f.read())\n",
    "print('\\n')\n",
    "print(f'Cursor position stop at: {f.tell()}')\n",
    "f.seek(3)\n",
    "print(f.read())\n",
    "f.close()"
   ]
  },
  {
   "cell_type": "code",
   "execution_count": 24,
   "id": "f4f18451",
   "metadata": {},
   "outputs": [
    {
     "name": "stdout",
     "output_type": "stream",
     "text": [
      "Hello\n",
      "\n",
      "This is harsh\n",
      "\n"
     ]
    }
   ],
   "source": [
    "f=open('//Users//MyData//test.txt')\n",
    "print(f.readline())\n",
    "print(f.readline())\n",
    "f.close()"
   ]
  },
  {
   "cell_type": "code",
   "execution_count": 25,
   "id": "34c772b8",
   "metadata": {},
   "outputs": [
    {
     "name": "stdout",
     "output_type": "stream",
     "text": [
      "['Hello\\n', 'This is harsh\\n']\n"
     ]
    }
   ],
   "source": [
    "f=open('//Users//MyData//test.txt')\n",
    "print(f.readlines())\n",
    "f.close()"
   ]
  },
  {
   "cell_type": "code",
   "execution_count": 26,
   "id": "4496be73",
   "metadata": {},
   "outputs": [
    {
     "name": "stdout",
     "output_type": "stream",
     "text": [
      "Hello\n",
      "\n",
      "This is harsh\n",
      "\n"
     ]
    }
   ],
   "source": [
    "f=open('//Users//MyData//test.txt')\n",
    "data=f.readlines()\n",
    "for line in data:\n",
    "    print(line)\n",
    "f.close()"
   ]
  },
  {
   "cell_type": "code",
   "execution_count": 27,
   "id": "97b5bcc8",
   "metadata": {},
   "outputs": [
    {
     "name": "stdout",
     "output_type": "stream",
     "text": [
      "Hello\n",
      "This is harsh\n",
      "\n"
     ]
    }
   ],
   "source": [
    "#with open -->'r' --> read, 'w'-->write, 'a'-->append\n",
    "\n",
    "with open('//Users//MyData//test.txt','r') as f:\n",
    "    print(f.read())"
   ]
  },
  {
   "cell_type": "code",
   "execution_count": 29,
   "id": "8b307cb3",
   "metadata": {},
   "outputs": [],
   "source": [
    "with open('//Users//MyData//test.txt','w') as f:\n",
    "    f.write('Mere bgl me ting ting hai')\n",
    "    "
   ]
  },
  {
   "cell_type": "code",
   "execution_count": 30,
   "id": "75e8155b",
   "metadata": {},
   "outputs": [],
   "source": [
    "with open('//Users//MyData//test.txt','a') as f:\n",
    "    f.write('Mere bgl me ting ting hai')\n",
    "    "
   ]
  },
  {
   "cell_type": "code",
   "execution_count": null,
   "id": "1bea07e9",
   "metadata": {},
   "outputs": [],
   "source": []
  }
 ],
 "metadata": {
  "kernelspec": {
   "display_name": "Python 3 (ipykernel)",
   "language": "python",
   "name": "python3"
  },
  "language_info": {
   "codemirror_mode": {
    "name": "ipython",
    "version": 3
   },
   "file_extension": ".py",
   "mimetype": "text/x-python",
   "name": "python",
   "nbconvert_exporter": "python",
   "pygments_lexer": "ipython3",
   "version": "3.9.12"
  }
 },
 "nbformat": 4,
 "nbformat_minor": 5
}
