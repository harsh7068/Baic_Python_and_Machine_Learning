{
 "cells": [
  {
   "cell_type": "code",
   "execution_count": 2,
   "id": "7c7e5155",
   "metadata": {},
   "outputs": [
    {
     "name": "stdout",
     "output_type": "stream",
     "text": [
      "[1, 2, 3, 4, 5, 6, 7, 8, 9, 10]\n",
      "[1, 4, 9, 16, 25, 36, 49, 64, 81, 100]\n",
      "[1, 4, 9, 16, 25, 36, 49, 64, 81, 100]\n"
     ]
    }
   ],
   "source": [
    "#comprehension commmand\n",
    "#applicable on list, tuple, dict\n",
    "\n",
    "num = list(range(1,11))\n",
    "print(num)\n",
    "\n",
    "new=[]\n",
    "for i in num:\n",
    "    new.append(i**2)\n",
    "\n",
    "print(new)\n",
    "\n",
    "square=[i**2 for i in range(1,11)]\n",
    "print(square)"
   ]
  },
  {
   "cell_type": "code",
   "execution_count": 5,
   "id": "d6051161",
   "metadata": {},
   "outputs": [
    {
     "name": "stdout",
     "output_type": "stream",
     "text": [
      "[1, 2, 3, 4, 5, 6, 7, 8, 9, 10]\n",
      "[-1, 4, -3, 16, -5, 36, -7, 64, -9, 100]\n",
      "[-1, 4, -3, 16, -5, 36, -7, 64, -9, 100]\n"
     ]
    }
   ],
   "source": [
    "num = list(range(1,11))\n",
    "print(num)\n",
    "\n",
    "new=[]\n",
    "for i in num:\n",
    "    if i%2==0:\n",
    "        new.append(i**2)\n",
    "    else:\n",
    "        new.append(-i)\n",
    "\n",
    "print(new)\n",
    "\n",
    "square_even=[i**2 if i%2==0 else -i for i in range(1,11) ]\n",
    "print(square_even)"
   ]
  },
  {
   "cell_type": "code",
   "execution_count": 6,
   "id": "ba07190b",
   "metadata": {},
   "outputs": [
    {
     "name": "stdout",
     "output_type": "stream",
     "text": [
      "{1: 1, 2: 4, 3: 9, 4: 16, 5: 25, 6: 36, 7: 49, 8: 64, 9: 81, 10: 100}\n"
     ]
    }
   ],
   "source": [
    "#comprehension command in dict\n",
    "def square(l):\n",
    "    d={}\n",
    "    for i in range(1,l+1):\n",
    "        d[i]=i**2\n",
    "    return d\n",
    "print(square(10))"
   ]
  },
  {
   "cell_type": "code",
   "execution_count": 10,
   "id": "f93fcb20",
   "metadata": {},
   "outputs": [
    {
     "name": "stdout",
     "output_type": "stream",
     "text": [
      "{1: 1, 2: 4, 3: 9, 4: 16, 5: 25, 6: 36, 7: 49, 8: 64, 9: 81, 10: 100}\n",
      "{1: -1, 2: 4, 3: -3, 4: 16, 5: -5, 6: 36, 7: -7, 8: 64, 9: -9, 10: 100}\n"
     ]
    }
   ],
   "source": [
    "square={n:n**2 for n in range(1,11)}\n",
    "print(square)\n",
    "sq={i:i**2 if i%2==0 else -i for i in range(1,11)}\n",
    "print(sq)"
   ]
  },
  {
   "cell_type": "code",
   "execution_count": 12,
   "id": "6ed0136f",
   "metadata": {},
   "outputs": [
    {
     "ename": "TypeError",
     "evalue": "add() takes 2 positional arguments but 3 were given",
     "output_type": "error",
     "traceback": [
      "\u001b[0;31m---------------------------------------------------------------------------\u001b[0m",
      "\u001b[0;31mTypeError\u001b[0m                                 Traceback (most recent call last)",
      "Input \u001b[0;32mIn [12]\u001b[0m, in \u001b[0;36m<cell line: 6>\u001b[0;34m()\u001b[0m\n\u001b[1;32m      4\u001b[0m \u001b[38;5;28;01mdef\u001b[39;00m \u001b[38;5;21madd\u001b[39m(a,b):\n\u001b[1;32m      5\u001b[0m     \u001b[38;5;28;01mreturn\u001b[39;00m a\u001b[38;5;241m+\u001b[39mb\n\u001b[0;32m----> 6\u001b[0m \u001b[38;5;28mprint\u001b[39m(\u001b[43madd\u001b[49m\u001b[43m(\u001b[49m\u001b[38;5;241;43m3\u001b[39;49m\u001b[43m,\u001b[49m\u001b[38;5;241;43m5\u001b[39;49m\u001b[43m,\u001b[49m\u001b[38;5;241;43m7\u001b[39;49m\u001b[43m)\u001b[49m)\n",
      "\u001b[0;31mTypeError\u001b[0m: add() takes 2 positional arguments but 3 were given"
     ]
    }
   ],
   "source": [
    "#args\n",
    "#kwargs\n",
    "# * operator\n",
    "def add(a,b):\n",
    "    return a+b\n",
    "print(add(3,5,7))"
   ]
  },
  {
   "cell_type": "code",
   "execution_count": 18,
   "id": "c8da58f7",
   "metadata": {},
   "outputs": [
    {
     "name": "stdout",
     "output_type": "stream",
     "text": [
      "(3, 5, 5, 6, 7, 8)\n",
      "(3, 4, 4, 5, 6, 7, 8)\n",
      "37\n"
     ]
    }
   ],
   "source": [
    "def add(*args):\n",
    "    return args\n",
    "print(add(3,5,5,6,7,8))\n",
    "\n",
    "\n",
    "def add(*args):\n",
    "    print (args)\n",
    "    total =0\n",
    "    for i in args:\n",
    "        total = total +i # or we can use sum(args)\n",
    "   \n",
    "    return total\n",
    "print(add(3,4,4,5,6,7,8))"
   ]
  },
  {
   "cell_type": "code",
   "execution_count": 19,
   "id": "307c6f5e",
   "metadata": {},
   "outputs": [
    {
     "name": "stdout",
     "output_type": "stream",
     "text": [
      "Enter your range5\n",
      "(1, 2, 3, 4, 5)\n",
      "15\n"
     ]
    }
   ],
   "source": [
    "def add(*args):\n",
    "    print (args)\n",
    "    total =0\n",
    "    for i in args:\n",
    "        total = total +i # or we can use sum(args)\n",
    "   \n",
    "    return total\n",
    "n = int(input(\"Enter your range\"))\n",
    "num=list(range(1,n+1))\n",
    "print(add(*num))"
   ]
  },
  {
   "cell_type": "code",
   "execution_count": 20,
   "id": "a68415d7",
   "metadata": {},
   "outputs": [
    {
     "name": "stdout",
     "output_type": "stream",
     "text": [
      "(2, 3, 4, 5)\n",
      "n= 1\n"
     ]
    }
   ],
   "source": [
    "#args with normal parameter\n",
    "def total(n,*args):\n",
    "    print(args)\n",
    "    print('n=',n)\n",
    "\n",
    "total(1,2,3,4,5)"
   ]
  },
  {
   "cell_type": "code",
   "execution_count": 21,
   "id": "d6d664b3",
   "metadata": {},
   "outputs": [
    {
     "name": "stdout",
     "output_type": "stream",
     "text": [
      "(3, 4, 5)\n",
      "n= 1\n",
      "n1= 2\n"
     ]
    }
   ],
   "source": [
    "def total(n,n1,*args):\n",
    "    print(args)\n",
    "    print('n=',n)\n",
    "    print('n1=',n1)\n",
    "total(1,2,3,4,5)"
   ]
  },
  {
   "cell_type": "code",
   "execution_count": 22,
   "id": "c52bade0",
   "metadata": {},
   "outputs": [
    {
     "name": "stdout",
     "output_type": "stream",
     "text": [
      "{'name': 'Harsh', 'age': 21}\n"
     ]
    }
   ],
   "source": [
    "#kwargs\n",
    "def func(**kwargs):\n",
    "    return kwargs\n",
    "print(func(name='Harsh', age = 21))"
   ]
  },
  {
   "cell_type": "code",
   "execution_count": 27,
   "id": "f1a514e2",
   "metadata": {},
   "outputs": [
    {
     "name": "stdout",
     "output_type": "stream",
     "text": [
      "6\n",
      "25\n"
     ]
    }
   ],
   "source": [
    "#lambda function\n",
    "# lambda variable:operation\n",
    "add = lambda a,b:a*2\n",
    "print(add(3,6))\n",
    "sqaure = lambda a:a**2\n",
    "print(sqaure(5))"
   ]
  },
  {
   "cell_type": "code",
   "execution_count": 29,
   "id": "0953adc3",
   "metadata": {},
   "outputs": [
    {
     "name": "stdout",
     "output_type": "stream",
     "text": [
      "<map object at 0x7f9b22583130>\n",
      "[1, 4, 9, 16]\n"
     ]
    }
   ],
   "source": [
    "#map function --> system code mapping location\n",
    "# map(fuction, input)\n",
    "num =[1,2,3,4]\n",
    "\n",
    "def square(a):\n",
    "    return a**2\n",
    "print(map(square,num))\n",
    "print(list(map(square,num)))"
   ]
  },
  {
   "cell_type": "code",
   "execution_count": 33,
   "id": "6de3d413",
   "metadata": {},
   "outputs": [
    {
     "name": "stdout",
     "output_type": "stream",
     "text": [
      "[1, 4, 9, 16]\n",
      "[False, True, False, True]\n",
      "['Odd', 'Even', 'Odd', 'Even']\n"
     ]
    }
   ],
   "source": [
    "num =[1,2,3,4]\n",
    "print(list(map(lambda a:a**2,num)))\n",
    "print(list(map(lambda a:a%2==0,num)))\n",
    "\n",
    "\n",
    "print(list(map(lambda a:'Even' if a%2==0 else 'Odd',num)))"
   ]
  },
  {
   "cell_type": "code",
   "execution_count": null,
   "id": "54f85f54",
   "metadata": {},
   "outputs": [],
   "source": []
  }
 ],
 "metadata": {
  "kernelspec": {
   "display_name": "Python 3 (ipykernel)",
   "language": "python",
   "name": "python3"
  },
  "language_info": {
   "codemirror_mode": {
    "name": "ipython",
    "version": 3
   },
   "file_extension": ".py",
   "mimetype": "text/x-python",
   "name": "python",
   "nbconvert_exporter": "python",
   "pygments_lexer": "ipython3",
   "version": "3.9.12"
  }
 },
 "nbformat": 4,
 "nbformat_minor": 5
}
