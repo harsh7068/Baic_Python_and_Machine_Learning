{
 "cells": [
  {
   "cell_type": "markdown",
   "id": "95f1e3b7",
   "metadata": {},
   "source": [
    "# oops --> object oriented programming system\n"
   ]
  },
  {
   "cell_type": "code",
   "execution_count": 2,
   "id": "a72b680a",
   "metadata": {},
   "outputs": [
    {
     "name": "stdout",
     "output_type": "stream",
     "text": [
      "Harsh\n",
      "Raj\n",
      "Harsh Raj\n"
     ]
    }
   ],
   "source": [
    "#class\n",
    "#__init__ method/constructor\n",
    "\n",
    "class person:\n",
    "    def __init__(self,fName,lName,age):\n",
    "        self.fName =fName\n",
    "        self.lName = lName\n",
    "        self.age= age\n",
    "        self.fullName = fName+' '+lName\n",
    "\n",
    "p1=person('Harsh','Raj',21)\n",
    "p2=person('Nikhil','Kumar',29)\n",
    "print(p1.fName)\n",
    "print(p1.lName)\n",
    "print(p1.fullName)"
   ]
  },
  {
   "cell_type": "code",
   "execution_count": 3,
   "id": "9da46e71",
   "metadata": {},
   "outputs": [
    {
     "name": "stdout",
     "output_type": "stream",
     "text": [
      "Harsh\n",
      "Raj\n",
      "Harsh Raj\n"
     ]
    }
   ],
   "source": [
    "class person:\n",
    "    def __init__(self,fName,lName,age):\n",
    "        self.fName =fName\n",
    "        self.lName = lName\n",
    "        self.age= age\n",
    "        #self.fullName = fName+' '+lName\n",
    "        \n",
    "        \n",
    "    def fullName (self):\n",
    "        return f'{self.fName} {self.lName}'\n",
    "    \n",
    "    \n",
    "p1=person('Harsh','Raj',21)\n",
    "p2=person('Nikhil','Kumar',29)\n",
    "print(p1.fName)\n",
    "print(p1.lName)\n",
    "print(p1.fullName())"
   ]
  },
  {
   "cell_type": "code",
   "execution_count": 4,
   "id": "2587f718",
   "metadata": {},
   "outputs": [
    {
     "name": "stdout",
     "output_type": "stream",
     "text": [
      "HP 56000\n"
     ]
    }
   ],
   "source": [
    "class laptop:\n",
    "    def __init__(self,brand,model,price):\n",
    "        self.brand = brand\n",
    "        self.model = model\n",
    "        self.price = price\n",
    "        \n",
    "    def brandName(self):\n",
    "        return f'{self.brand} {self.price}'\n",
    "    \n",
    "l1=laptop('HP','XTU567',56000)\n",
    "print(l1.brandName())"
   ]
  },
  {
   "cell_type": "code",
   "execution_count": 5,
   "id": "b95411ee",
   "metadata": {},
   "outputs": [
    {
     "name": "stdout",
     "output_type": "stream",
     "text": [
      "HP 56000\n",
      "50400.0\n"
     ]
    }
   ],
   "source": [
    "class laptop:\n",
    "    def __init__(self,brand,model,price):\n",
    "        self.brand = brand\n",
    "        self.model = model\n",
    "        self.price = price\n",
    "        \n",
    "    def brandName(self):\n",
    "        return f'{self.brand} {self.price}'\n",
    "    \n",
    "    def discount(self,n):\n",
    "        offPrice = (n/100)*self.price\n",
    "        return self.price - offPrice\n",
    "    \n",
    "l1=laptop('HP','XTU567',56000)\n",
    "print(l1.brandName())\n",
    "print(l1.discount(10))"
   ]
  },
  {
   "cell_type": "code",
   "execution_count": 7,
   "id": "1c72602e",
   "metadata": {},
   "outputs": [
    {
     "name": "stdout",
     "output_type": "stream",
     "text": [
      "HP 56000\n",
      "28000.0\n"
     ]
    }
   ],
   "source": [
    "class laptop:\n",
    "    n=50\n",
    "    def __init__(self,brand,model,price):\n",
    "        self.brand = brand\n",
    "        self.model = model\n",
    "        self.price = price\n",
    "        \n",
    "    def brandName(self):\n",
    "        return f'{self.brand} {self.price}'\n",
    "    \n",
    "    def discount(self):\n",
    "        offPrice = (laptop.n/100)*self.price\n",
    "        return self.price - offPrice\n",
    "    \n",
    "l1=laptop('HP','XTU567',56000)\n",
    "print(l1.brandName())\n",
    "print(l1.discount())"
   ]
  },
  {
   "cell_type": "code",
   "execution_count": 9,
   "id": "a594fd89",
   "metadata": {},
   "outputs": [
    {
     "name": "stdout",
     "output_type": "stream",
     "text": [
      "Enter the discount:6\n",
      "HP 56000\n",
      "52640.0\n"
     ]
    }
   ],
   "source": [
    "class laptop:\n",
    "    #n = 50 class variable\n",
    "    def __init__(self,brand,model,price):\n",
    "        self.brand = brand\n",
    "        self.model = model\n",
    "        self.price = price\n",
    "        \n",
    "    def brandName(self):\n",
    "        return f'{self.brand} {self.price}'\n",
    "    \n",
    "    def discount(self):\n",
    "        offPrice = (n/100)*self.price\n",
    "        return self.price - offPrice\n",
    "    \n",
    "n=int(input('Enter the discount:'))   #global variable\n",
    "l1=laptop('HP','XTU567',56000)\n",
    "print(l1.brandName())\n",
    "print(l1.discount())"
   ]
  },
  {
   "cell_type": "code",
   "execution_count": 13,
   "id": "f947cf70",
   "metadata": {},
   "outputs": [
    {
     "name": "stdout",
     "output_type": "stream",
     "text": [
      "3\n",
      "You have created 3 instance of laptop class\n"
     ]
    }
   ],
   "source": [
    "#instance count\n",
    "#clas method\n",
    "class laptop:\n",
    "    count_instance = 0\n",
    "    def __init__(self,brand,model,price):\n",
    "        laptop.count_instance +=1\n",
    "        self.brand = brand\n",
    "        self.model = model\n",
    "        self.price = price\n",
    "        \n",
    "    @classmethod\n",
    "    def instance_count(cls):       #class method ke liye cls use krte hai\n",
    "        return f'You have created {cls.count_instance} instance of laptop class'\n",
    "        \n",
    "l1=laptop('HP','XTU567',56000)\n",
    "l2=laptop('DELL','Visto',59000)\n",
    "l3=laptop('HP','XTU567',57000)\n",
    "\n",
    "print(laptop.count_instance)\n",
    "\n",
    "print(laptop.instance_count())"
   ]
  },
  {
   "cell_type": "code",
   "execution_count": 18,
   "id": "c7883bbe",
   "metadata": {},
   "outputs": [
    {
     "name": "stdout",
     "output_type": "stream",
     "text": [
      "Samsung 22000\n",
      "16GB\n"
     ]
    }
   ],
   "source": [
    "#inheritance\n",
    "class phone:\n",
    "    def __init__(self,brand,model,price):\n",
    "        self.brand = brand\n",
    "        self.model = model\n",
    "        self.price = price\n",
    "        \n",
    "    def fullName(self):\n",
    "        return f'{self.brand} {self.price}'\n",
    "    \n",
    "class smart_phone(phone):      #child class\n",
    "    def __init__(self,brand,model,price,ram,memory):\n",
    "        phone.__init__(self,brand,model,price)\n",
    "        self.ram =ram\n",
    "        self.memory = memory\n",
    "        \n",
    "p1=phone('Nokia','1100',1000)\n",
    "p2=smart_phone('Samsung','M2',22000,'16GB','128GB')\n",
    "\n",
    "print(p2.fullName())\n",
    "print(p2.ram)"
   ]
  },
  {
   "cell_type": "code",
   "execution_count": 23,
   "id": "b1a6a2a3",
   "metadata": {},
   "outputs": [
    {
     "name": "stdout",
     "output_type": "stream",
     "text": [
      "Samsung 22000\n",
      "16GB\n"
     ]
    }
   ],
   "source": [
    "#super method\n",
    "class phone:\n",
    "    def __init__(self,brand,model,price):\n",
    "        self.brand = brand\n",
    "        self.model = model\n",
    "        self.price = price\n",
    "        \n",
    "    def fullName(self):\n",
    "        return f'{self.brand} {self.price}'\n",
    "    \n",
    "class smart_phone(phone):      #child class\n",
    "    def __init__(self,brand,model,price,ram,memory):\n",
    "        #phone.__init__(self,brand,model,price)\n",
    "        super().__init__(brand,model,price)\n",
    "        self.ram =ram\n",
    "        self.memory = memory\n",
    "        \n",
    "p1=phone('Nokia','1100',1000)\n",
    "p2=smart_phone('Samsung','M2',22000,'16GB','128GB')\n",
    "\n",
    "print(p2.fullName())\n",
    "print(p2.ram)"
   ]
  },
  {
   "cell_type": "code",
   "execution_count": null,
   "id": "c9ce85ac",
   "metadata": {},
   "outputs": [],
   "source": []
  }
 ],
 "metadata": {
  "kernelspec": {
   "display_name": "Python 3 (ipykernel)",
   "language": "python",
   "name": "python3"
  },
  "language_info": {
   "codemirror_mode": {
    "name": "ipython",
    "version": 3
   },
   "file_extension": ".py",
   "mimetype": "text/x-python",
   "name": "python",
   "nbconvert_exporter": "python",
   "pygments_lexer": "ipython3",
   "version": "3.9.12"
  }
 },
 "nbformat": 4,
 "nbformat_minor": 5
}
