{
 "cells": [
  {
   "cell_type": "code",
   "execution_count": 2,
   "id": "1964666f",
   "metadata": {},
   "outputs": [],
   "source": [
    "from tkinter import *\n",
    "import os\n",
    "import csv\n",
    "from tkinter import ttk,filedialog"
   ]
  },
  {
   "cell_type": "code",
   "execution_count": 15,
   "id": "b49db737",
   "metadata": {},
   "outputs": [],
   "source": [
    "#graphical user window\n",
    "win=Tk()\n",
    "win.title('Sonar Prediction')\n",
    "win.geometry('1000x650')\n",
    "win.resizable(False,False)\n",
    "\n",
    "def opencsv():\n",
    "    global name\n",
    "    name=filedialog.askopenfilename(parent=win, initialdir=os.getcwd(),\n",
    "                                   title='PLease select a file')\n",
    "    btn.configure(text=name)\n",
    "\n",
    "\n",
    "#design the scroll bar\n",
    "scrollbarx=Scrollbar(win,orient=HORIZONTAL)\n",
    "scrollbary=Scrollbar(win,orient=VERTICAL)\n",
    "\n",
    "\n",
    "#design Tree view\n",
    "tree=ttk.Treeview(win,columns=('Mobile Number','Status'),height=25,selectmode='extended',\n",
    "                 yscrollcommand=scrollbary.set,xscrollcommand=scrollbarx.set)\n",
    "\n",
    "scrollbary.config(command=tree.yview)\n",
    "scrollbary.pack(side=RIGHT,fill=Y)\n",
    "\n",
    "scrollbarx.config(command=tree.xview)\n",
    "scrollbarx.pack(side=BOTTOM,fill=X)\n",
    "\n",
    "#heading\n",
    "tree.heading('Mobile Number',text='0',anchor=W)\n",
    "tree.heading('Status',text='60',anchor=W)\n",
    "tree.pack()\n",
    "\n",
    "\n",
    "#button\n",
    "btn=Button(win,text='Select CSV file',width='20',font='verdana 13 bold',command=opencsv)\n",
    "btn.place(x=325,y=550)\n",
    "\n",
    "\n",
    "\n",
    "win.mainloop()"
   ]
  },
  {
   "cell_type": "code",
   "execution_count": null,
   "id": "8c61987c",
   "metadata": {},
   "outputs": [],
   "source": []
  }
 ],
 "metadata": {
  "kernelspec": {
   "display_name": "Python 3 (ipykernel)",
   "language": "python",
   "name": "python3"
  },
  "language_info": {
   "codemirror_mode": {
    "name": "ipython",
    "version": 3
   },
   "file_extension": ".py",
   "mimetype": "text/x-python",
   "name": "python",
   "nbconvert_exporter": "python",
   "pygments_lexer": "ipython3",
   "version": "3.9.12"
  }
 },
 "nbformat": 4,
 "nbformat_minor": 5
}
