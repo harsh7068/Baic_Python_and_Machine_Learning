{
 "cells": [
  {
   "cell_type": "code",
   "execution_count": 18,
   "id": "fae3b6b8",
   "metadata": {},
   "outputs": [
    {
     "name": "stdout",
     "output_type": "stream",
     "text": [
      "Enter a stringegja 23531 13asfa\n",
      "Number of letters are 8\n",
      "Number of digits are 7\n"
     ]
    }
   ],
   "source": [
    "#Write a program that accepts a sentence and calculate the number of letters and digits.\n",
    "s=input(\"Enter a string: \")\n",
    "l=d=0\n",
    "for i in s:\n",
    "    if i.isdigit():\n",
    "        d=d+1\n",
    "    elif i.isalpha():\n",
    "        l=l+1\n",
    "    else:\n",
    "        pass\n",
    "print(f\"Number of letters are {l}\")\n",
    "print(f\"Number of digits are {d}\")"
   ]
  },
  {
   "cell_type": "code",
   "execution_count": 20,
   "id": "b4d83282",
   "metadata": {},
   "outputs": [
    {
     "name": "stdout",
     "output_type": "stream",
     "text": [
      "['2000', '2002', '2004', '2006', '2008', '2020', '2022', '2024', '2026', '2028', '2040', '2042', '2044', '2046', '2048', '2060', '2062', '2064', '2066', '2068', '2080', '2082', '2084', '2086', '2088', '2200', '2202', '2204', '2206', '2208', '2220', '2222', '2224', '2226', '2228', '2240', '2242', '2244', '2246', '2248', '2260', '2262', '2264', '2266', '2268', '2280', '2282', '2284', '2286', '2288', '2400', '2402', '2404', '2406', '2408', '2420', '2422', '2424', '2426', '2428', '2440', '2442', '2444', '2446', '2448', '2460', '2462', '2464', '2466', '2468', '2480', '2482', '2484', '2486', '2488', '2600', '2602', '2604', '2606', '2608', '2620', '2622', '2624', '2626', '2628', '2640', '2642', '2644', '2646', '2648', '2660', '2662', '2664', '2666', '2668', '2680', '2682', '2684', '2686', '2688', '2800', '2802', '2804', '2806', '2808', '2820', '2822', '2824', '2826', '2828', '2840', '2842', '2844', '2846', '2848', '2860', '2862', '2864', '2866', '2868', '2880', '2882', '2884', '2886', '2888']\n"
     ]
    }
   ],
   "source": [
    "#Write a program, which will find all such numbers between 1000 and 3000 (both included) such that each digit \n",
    "#of the number is an even number.\n",
    "evenDigit=[]\n",
    "for i in range(1000,3001):\n",
    "        s = str(i)\n",
    "        if (int(s[0])%2==0) and (int(s[1])%2==0) and (int(s[2])%2==0) and (int(s[3])%2==0):\n",
    "            evenDigit.append(s)\n",
    "print(evenDigit)"
   ]
  },
  {
   "cell_type": "code",
   "execution_count": 26,
   "id": "ba99a8a4",
   "metadata": {},
   "outputs": [
    {
     "name": "stdout",
     "output_type": "stream",
     "text": [
      "Enter a number:8\n",
      "{1: 1, 2: 4, 3: 9, 4: 16, 5: 25, 6: 36, 7: 49, 8: 64}\n"
     ]
    }
   ],
   "source": [
    "#With a given integral number n, write a program to generate a dictionary that contains (i, i*i) such that \n",
    "#is an integral number between 1 and n (both included). and then the program should print the dictionary.\n",
    "#Suppose the following input is supplied to the program:\n",
    "#8\n",
    "#Then, the output should be:\n",
    "#{1: 1, 2: 4, 3: 9, 4: 16, 5: 25, 6: 36, 7: 49, 8: 64}\n",
    "liss={}\n",
    "n=int(input(\"Enter a number:\"))\n",
    "for i in range(1,n+1):\n",
    "    liss[i]=i*i\n",
    "print(liss)"
   ]
  },
  {
   "cell_type": "code",
   "execution_count": 43,
   "id": "700fd80b",
   "metadata": {},
   "outputs": [
    {
     "name": "stdout",
     "output_type": "stream",
     "text": [
      "Enter the number to find factorial:-1\n",
      "Factorial doesn't exist for negative number\n"
     ]
    }
   ],
   "source": [
    "#Write a program to find the factorial of a number given by user.\n",
    "n=int(input(\"Enter the number to find factorial:\"))\n",
    "m=1\n",
    "# for i in range(1,n+1):\n",
    "#     m=m*i\n",
    "# print(m)\n",
    "\n",
    "if n<0:\n",
    "    print(\"Factorial doesn't exist for negative number\")\n",
    "elif n==0:\n",
    "    print(\"Factorial of 0 is 1\")\n",
    "else:\n",
    "    for i in range(1,n+1):\n",
    "        m=m*i\n",
    "    print(m)"
   ]
  },
  {
   "cell_type": "code",
   "execution_count": 38,
   "id": "474eb36b",
   "metadata": {},
   "outputs": [
    {
     "name": "stdout",
     "output_type": "stream",
     "text": [
      "Enter a number:5\n",
      "[5, 10, 15, 20, 25, 30, 35, 40, 45, 50]\n"
     ]
    }
   ],
   "source": [
    "#Write a program to print multiplication table of a given number.\n",
    "n=int(input(\"Enter a number:\"))\n",
    "li=[]\n",
    "for i in range(1,11):\n",
    "    li.append(i*n)\n",
    "print(li)"
   ]
  },
  {
   "cell_type": "code",
   "execution_count": 51,
   "id": "5d1b45d9",
   "metadata": {},
   "outputs": [
    {
     "name": "stdout",
     "output_type": "stream",
     "text": [
      "[2, 3, 5, 7, 11, 13, 17, 19, 23, 29, 31, 37, 41, 43, 47, 53, 59, 61, 67, 71, 73, 79, 83, 89, 97]\n"
     ]
    }
   ],
   "source": [
    "#Write a program to print all the prime number from a range 0 to 100.\n",
    "primeNum=[]\n",
    "for i in range(2,101):\n",
    "    k=0\n",
    "    for a in range(2,i//2+1):\n",
    "        if i%a==0:\n",
    "            k=k+1\n",
    "    if k<=0:\n",
    "        primeNum.append(i)\n",
    "print(primeNum)"
   ]
  },
  {
   "cell_type": "code",
   "execution_count": 82,
   "id": "cb9b5d4c",
   "metadata": {},
   "outputs": [
    {
     "name": "stdout",
     "output_type": "stream",
     "text": [
      "[3, 7, 13, 19, 29, 37, 43, 53, 61, 71, 79, 89]\n"
     ]
    }
   ],
   "source": [
    "#Use a loop to display elements from a given list present at odd index positions\n",
    "givenL=[2, 3, 5, 7, 11, 13, 17, 19, 23, 29, 31, 37, 41, 43, 47, 53, 59, 61, 67, 71, 73, 79, 83, 89, 97]\n",
    "finalL=[]\n",
    "for i in range(1,len(givenL),2):\n",
    "    finalL.append(givenL[i])\n",
    "\n",
    "print(finalL)"
   ]
  },
  {
   "cell_type": "code",
   "execution_count": 121,
   "id": "5633d214",
   "metadata": {},
   "outputs": [
    {
     "name": "stdout",
     "output_type": "stream",
     "text": [
      "444\n",
      "[18, 82, 57, 94, 73, 33, 29, 58]\n",
      "444\n"
     ]
    }
   ],
   "source": [
    "#Find sum of all elements in the given list l=[18,82,[57,94,73],33,29,58]\n",
    "l=[18,82,[57,94,73],33,29,58]\n",
    "\n",
    "sum=0\n",
    "for i in range(0,len(l)):\n",
    "    if(type(l[i])==type(l)):\n",
    "        for j in l[i]:\n",
    "            sum=sum+j\n",
    "    else:\n",
    "        sum=sum+l[i]\n",
    "print(sum)\n",
    "\n",
    "\n",
    "\n",
    "\n",
    "\n",
    "l = [[18,82],[57,94,73],[33,29,58]]\n",
    "l1=[]\n",
    "for list in list_of_lists:\n",
    "    for element in list:\n",
    "        l1.append(element)\n",
    "print(l1)\n",
    "s=0\n",
    "for i in l1:\n",
    "    s = s+i\n",
    "print(s)"
   ]
  },
  {
   "cell_type": "code",
   "execution_count": 123,
   "id": "e865c676",
   "metadata": {},
   "outputs": [
    {
     "name": "stdout",
     "output_type": "stream",
     "text": [
      "['Nikhil', 'Nikita', 'nikhil']\n"
     ]
    }
   ],
   "source": [
    "#Write a program to print all string starting from “N” in a list?\n",
    "li=['Nikhil','Harsh','Manish','Aradhna','Nikita','nikhil']\n",
    "l1=[]\n",
    "for i in li:\n",
    "    s = str(i)\n",
    "    if (s[0]=='N' or (s[0]=='n')):\n",
    "        l1.append(i)\n",
    "print(l1)"
   ]
  },
  {
   "cell_type": "code",
   "execution_count": 95,
   "id": "08f59298",
   "metadata": {},
   "outputs": [
    {
     "name": "stdout",
     "output_type": "stream",
     "text": [
      "Enter the number of elements:6\n",
      "Please enter the elements1\n",
      "Please enter the elements2\n",
      "Please enter the elements3\n",
      "Please enter the elements4\n",
      "Please enter the elements5\n",
      "Please enter the elements6\n",
      "[1, 2, 3]\n",
      "[4, 5, 6]\n",
      "[16, 25, 36]\n"
     ]
    }
   ],
   "source": [
    "#Write a program to print square of second half of elements of a list?\n",
    "l=[]\n",
    "n=int(input(\"Enter the number of elements:\"))\n",
    "if(n%2!=0):\n",
    "    print(\"Please enter an even number\")\n",
    "else:\n",
    "    for i in range(1,n+1):\n",
    "        value=int(input(\"Please enter the elements:\"))\n",
    "        l.append(value)\n",
    "    num=int(n/2)\n",
    "    list1=l[:num]\n",
    "    list2=l[num:]\n",
    "    print(list1)\n",
    "    print(list2)\n",
    "    list3=[]\n",
    "    for i in list2:\n",
    "        list3.append(i*i)\n",
    "    print(list3)"
   ]
  },
  {
   "cell_type": "code",
   "execution_count": null,
   "id": "a5c839f4",
   "metadata": {},
   "outputs": [],
   "source": []
  }
 ],
 "metadata": {
  "kernelspec": {
   "display_name": "Python 3 (ipykernel)",
   "language": "python",
   "name": "python3"
  },
  "language_info": {
   "codemirror_mode": {
    "name": "ipython",
    "version": 3
   },
   "file_extension": ".py",
   "mimetype": "text/x-python",
   "name": "python",
   "nbconvert_exporter": "python",
   "pygments_lexer": "ipython3",
   "version": "3.9.12"
  }
 },
 "nbformat": 4,
 "nbformat_minor": 5
}
