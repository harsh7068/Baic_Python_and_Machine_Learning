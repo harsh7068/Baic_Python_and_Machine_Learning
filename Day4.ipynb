{
 "cells": [
  {
   "cell_type": "code",
   "execution_count": null,
   "id": "01d5cf60",
   "metadata": {},
   "outputs": [],
   "source": [
    "list --->extend commnad"
   ]
  },
  {
   "cell_type": "code",
   "execution_count": 3,
   "id": "9f94c679",
   "metadata": {},
   "outputs": [
    {
     "name": "stdout",
     "output_type": "stream",
     "text": [
      "[1, 2, 3, 4, 5, 6]\n",
      "[4, 5, 6, 1, 2, 3]\n"
     ]
    }
   ],
   "source": [
    "l1=[1,2,3]\n",
    "l2=[4,5,6]\n",
    "print(l1+l2)\n",
    "\n",
    "#l1.extend(l2)\n",
    "#print(l1)\n",
    "\n",
    "l2.extend(l1)\n",
    "print(l2)"
   ]
  },
  {
   "cell_type": "code",
   "execution_count": 6,
   "id": "6a5b9d3d",
   "metadata": {},
   "outputs": [
    {
     "name": "stdout",
     "output_type": "stream",
     "text": [
      "[1, 2, 3, 4, 5, 6, 7, 8, 9, 10]\n",
      "[2, 4, 6, 8, 10]\n"
     ]
    }
   ],
   "source": [
    "#lisr ---> list commmand ->>> Range function \n",
    "num = list(range(1,11))\n",
    "print(num)\n",
    "#print(type(num))\n",
    "even=[]\n",
    "for i in num:\n",
    "    if i%2==0:\n",
    "        even.append(i)\n",
    "\n",
    "print(even)"
   ]
  },
  {
   "cell_type": "code",
   "execution_count": 8,
   "id": "27258a59",
   "metadata": {},
   "outputs": [
    {
     "name": "stdout",
     "output_type": "stream",
     "text": [
      "[-1, 4, -3, 16, -5, 36, -7, 64, -9, 100]\n"
     ]
    }
   ],
   "source": [
    "num = list(range(1,11))\n",
    "list1=[]\n",
    "for i in num:\n",
    "    if i%2==0:\n",
    "        list1.append(i*i)\n",
    "    else:\n",
    "        list1.append(-i)\n",
    "\n",
    "print(list1)"
   ]
  },
  {
   "cell_type": "code",
   "execution_count": 14,
   "id": "6a8773d4",
   "metadata": {},
   "outputs": [
    {
     "name": "stdout",
     "output_type": "stream",
     "text": [
      "[['Mohit', 'Anuj', 'Chetan']]\n",
      "['natehC', 'junA', 'tihoM']\n"
     ]
    }
   ],
   "source": [
    "#name = [\"Chetan\",\"Anuj\",\"Mohit\"]\n",
    "#output=[\"Mohit\",\"Anuj\",\"Chetan\"]\n",
    "#output = [\"natehc\"]\n",
    "\n",
    "name = [\"Chetan\",\"Anuj\",\"Mohit\"]\n",
    "rev=[]\n",
    "name1=[]\n",
    "name1.append(name[::-1])\n",
    "for i in name:\n",
    "    rev.append(i[: : -1])\n",
    "print(name1)\n",
    "print(rev)"
   ]
  },
  {
   "cell_type": "code",
   "execution_count": 17,
   "id": "2f1a0b1b",
   "metadata": {},
   "outputs": [
    {
     "name": "stdout",
     "output_type": "stream",
     "text": [
      "['Chetan', '31']\n",
      "Enter the stringharsh,242,242134\n",
      "['harsh', '242', '242134']\n"
     ]
    }
   ],
   "source": [
    "#split command\n",
    "#to convert string into list\n",
    "name=\"Chetan,31\".split(\",\")\n",
    "print(name)\n",
    "\n",
    "user=input(\"Enter the string\").split(\",\")\n",
    "print(user)"
   ]
  },
  {
   "cell_type": "code",
   "execution_count": 23,
   "id": "3d37e8fd",
   "metadata": {},
   "outputs": [
    {
     "name": "stdout",
     "output_type": "stream",
     "text": [
      "chetan,31\n"
     ]
    }
   ],
   "source": [
    "#join command\n",
    "#to convert list into string\n",
    "new=[\"chetan\",\"31\"]\n",
    "print(\",\".join(new))"
   ]
  },
  {
   "cell_type": "code",
   "execution_count": 25,
   "id": "51f169a7",
   "metadata": {},
   "outputs": [
    {
     "name": "stdout",
     "output_type": "stream",
     "text": [
      "(1, 2, 3, 4)\n",
      "<class 'tuple'>\n"
     ]
    }
   ],
   "source": [
    "## tuples--> ordered datatype\n",
    "#tuple--> secured database\n",
    "#tuple--> ()\n",
    "'''append, insert,pop,remove,delete can not be performed in tuple'''\n",
    "'''indexing,slicing,length,count can be performed in tuple'''\n",
    "num=(1,2,3,4)\n",
    "print(num)\n",
    "print(type(num))"
   ]
  },
  {
   "cell_type": "code",
   "execution_count": 26,
   "id": "cb488ba6",
   "metadata": {},
   "outputs": [
    {
     "name": "stdout",
     "output_type": "stream",
     "text": [
      "1\n",
      "<class 'int'>\n",
      "(1,)\n",
      "<class 'tuple'>\n"
     ]
    }
   ],
   "source": [
    "num=(1)\n",
    "print(num)\n",
    "print(type(num))\n",
    "num1=(1,)\n",
    "print(num1)\n",
    "print(type(num1))"
   ]
  },
  {
   "cell_type": "code",
   "execution_count": 30,
   "id": "a773cd06",
   "metadata": {},
   "outputs": [
    {
     "name": "stdout",
     "output_type": "stream",
     "text": [
      "('harsh', 'nikhil', 'manish')\n",
      "<class 'tuple'>\n",
      "harsh\n",
      "nikhil\n",
      "manish\n",
      "harsh\n",
      "nikhil\n",
      "manish\n"
     ]
    }
   ],
   "source": [
    "#tuple without brakets\n",
    "name=\"harsh\",\"nikhil\",\"manish\"\n",
    "print(name)\n",
    "print(type(name))\n",
    "name1,name2,name3=name\n",
    "print(name1)\n",
    "print(name2)\n",
    "print(name3)\n",
    "print(name[0])\n",
    "print(name[1])\n",
    "print(name[2])"
   ]
  },
  {
   "cell_type": "code",
   "execution_count": 31,
   "id": "296bc976",
   "metadata": {},
   "outputs": [
    {
     "ename": "SyntaxError",
     "evalue": "invalid syntax (3734094516.py, line 1)",
     "output_type": "error",
     "traceback": [
      "\u001b[0;36m  Input \u001b[0;32mIn [31]\u001b[0;36m\u001b[0m\n\u001b[0;31m    Dsakarlo123@\u001b[0m\n\u001b[0m                ^\u001b[0m\n\u001b[0;31mSyntaxError\u001b[0m\u001b[0;31m:\u001b[0m invalid syntax\n"
     ]
    }
   ],
   "source": []
  },
  {
   "cell_type": "code",
   "execution_count": 34,
   "id": "91050a36",
   "metadata": {},
   "outputs": [
    {
     "name": "stdout",
     "output_type": "stream",
     "text": [
      "('harsh', '77', ['Book1', 'Book2', 'Book3'])\n",
      "('harsh', '77', ['Book1', 'Book2', 'Book4', 'Book3'])\n"
     ]
    }
   ],
   "source": [
    "user_info =(\"harsh\",\"77\",[\"Book1\",\"Book2\"])\n",
    "user_info[2].append(\"Book3\")\n",
    "print(user_info)\n",
    "user_info[2].insert(2,\"Book4\")\n",
    "print(user_info)"
   ]
  },
  {
   "cell_type": "code",
   "execution_count": 36,
   "id": "c90ad4b6",
   "metadata": {},
   "outputs": [
    {
     "name": "stdout",
     "output_type": "stream",
     "text": [
      "{'Name': 'Harsh', 'Age': '21'}\n",
      "<class 'dict'>\n"
     ]
    }
   ],
   "source": [
    "#dictionary --> unordered database\n",
    "#all types of data\n",
    "#key : value\n",
    "#{}\n",
    "user={\"Name\":\"Harsh\",\"Age\":\"21\"}\n",
    "print(user)\n",
    "print(type(user))"
   ]
  },
  {
   "cell_type": "code",
   "execution_count": 38,
   "id": "85a5d6e6",
   "metadata": {},
   "outputs": [
    {
     "name": "stdout",
     "output_type": "stream",
     "text": [
      "{'name': 'harsh', 'age': 21}\n",
      "<class 'dict'>\n"
     ]
    }
   ],
   "source": [
    "user = dict(name=\"harsh\", age=21)\n",
    "print(user)\n",
    "print(type(user))"
   ]
  },
  {
   "cell_type": "code",
   "execution_count": 39,
   "id": "8b73503e",
   "metadata": {},
   "outputs": [
    {
     "name": "stdout",
     "output_type": "stream",
     "text": [
      "{'name': 'Harsh', 'age': 21}\n",
      "<class 'dict'>\n"
     ]
    }
   ],
   "source": [
    "user_info={\n",
    "    'name':'Harsh',\n",
    "    'age' : 21\n",
    "}\n",
    "print(user_info)\n",
    "print(type(user_info))"
   ]
  },
  {
   "cell_type": "code",
   "execution_count": 41,
   "id": "c4114e2f",
   "metadata": {},
   "outputs": [
    {
     "name": "stdout",
     "output_type": "stream",
     "text": [
      "Present\n",
      "Present\n"
     ]
    }
   ],
   "source": [
    "user={'Name':'Harsh','age':31}\n",
    "\n",
    "#how to apply if else in dictionary\n",
    "if 'Name' in user:\n",
    "    print('Present')\n",
    "else:\n",
    "    print('Not Present')\n",
    "\n",
    "#values method\n",
    "if 'Harsh' in user.values():\n",
    "    print('Present')\n",
    "else:\n",
    "    print('Not present')"
   ]
  },
  {
   "cell_type": "code",
   "execution_count": 44,
   "id": "36079ea9",
   "metadata": {},
   "outputs": [
    {
     "name": "stdout",
     "output_type": "stream",
     "text": [
      "Present\n",
      "Not present\n"
     ]
    }
   ],
   "source": [
    "#items method\n",
    "user={'Name':'Harsh','age':31}\n",
    "if ('Name','Harsh') in user.items():\n",
    "    print('Present')\n",
    "else:\n",
    "    print('Not present')\n",
    "    \n",
    "    \n",
    "    \n",
    "if ('Harsh','Name') in user.items():\n",
    "    print('Present')\n",
    "else:\n",
    "    print('Not present')"
   ]
  },
  {
   "cell_type": "code",
   "execution_count": 48,
   "id": "8eb7a9b6",
   "metadata": {},
   "outputs": [
    {
     "name": "stdout",
     "output_type": "stream",
     "text": [
      "Name\n",
      "age\n",
      "Harsh\n",
      "31\n",
      "Name:Harsh\n",
      "age:31\n"
     ]
    }
   ],
   "source": [
    "#loops in dict\n",
    "user={'Name':'Harsh','age':31}\n",
    "for i in user:\n",
    "    print(i)\n",
    "#values method\n",
    "for i in user.values():\n",
    "    print(i)\n",
    "#items method\n",
    "for k,j in user.items():\n",
    "    print(f'{k}:{j}')"
   ]
  },
  {
   "cell_type": "code",
   "execution_count": 52,
   "id": "74c0546e",
   "metadata": {},
   "outputs": [
    {
     "name": "stdout",
     "output_type": "stream",
     "text": [
      "{'Name': 'Harsh', 'age': 31, 'state': 'Bihar', 'Sport': ['Sport1', 'Sport2']}\n"
     ]
    }
   ],
   "source": [
    "#update method\n",
    "user={'Name':'Harsh','age':31}\n",
    "more_info={'state':'Bihar','Sport':['Sport1','Sport2']}\n",
    "#print(user+more_info)\n",
    "user.update(more_info)\n",
    "print(user)"
   ]
  },
  {
   "cell_type": "code",
   "execution_count": null,
   "id": "be69932b",
   "metadata": {},
   "outputs": [],
   "source": []
  }
 ],
 "metadata": {
  "kernelspec": {
   "display_name": "Python 3 (ipykernel)",
   "language": "python",
   "name": "python3"
  },
  "language_info": {
   "codemirror_mode": {
    "name": "ipython",
    "version": 3
   },
   "file_extension": ".py",
   "mimetype": "text/x-python",
   "name": "python",
   "nbconvert_exporter": "python",
   "pygments_lexer": "ipython3",
   "version": "3.9.12"
  }
 },
 "nbformat": 4,
 "nbformat_minor": 5
}
