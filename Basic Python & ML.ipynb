{
 "cells": [
  {
   "cell_type": "code",
   "execution_count": 1,
   "id": "32a4a3da",
   "metadata": {},
   "outputs": [
    {
     "name": "stdout",
     "output_type": "stream",
     "text": [
      "Enter Value Of A is 5\n",
      "Enter Value Of B is 6\n",
      "A is  5 & B is  6\n",
      "Type Of A is  <class 'int'>  & B is  <class 'int'>\n",
      "Sum is  11\n"
     ]
    }
   ],
   "source": [
    "a =int(input(\"Enter Value Of A is \"))\n",
    "b =int(input(\"Enter Value Of B is \"))\n",
    "print(\"A is \",a,\"& B is \",b)\n",
    "print(\"Type Of A is \",type(a),\" & B is \",type(b))\n",
    "print(\"Sum is \",a+b)"
   ]
  },
  {
   "cell_type": "code",
   "execution_count": 7,
   "id": "5b27fd28",
   "metadata": {},
   "outputs": [
    {
     "name": "stdout",
     "output_type": "stream",
     "text": [
      "Enter A String  Manish Kumar Shah\n",
      "Manish Kumar Shah\n",
      "Reverse is  hahS ramuK hsinaM\n"
     ]
    }
   ],
   "source": [
    "a=input(\"Enter A String  \")\n",
    "print(a)\n",
    "print(\"Reverse is \",a[: :-1])"
   ]
  },
  {
   "cell_type": "code",
   "execution_count": 21,
   "id": "c4b3097b",
   "metadata": {},
   "outputs": [
    {
     "name": "stdout",
     "output_type": "stream",
     "text": [
      "17\n",
      " String Count without Spaces \n"
     ]
    },
    {
     "data": {
      "text/plain": [
       "15"
      ]
     },
     "execution_count": 21,
     "metadata": {},
     "output_type": "execute_result"
    }
   ],
   "source": [
    "a=\"Manish Kumar Shah\"\n",
    "print(len(a))\n",
    "a.upper()\n",
    "a.lower()\n",
    "a.title()\n",
    "print(\" String Count without Spaces \")\n",
    "len(a)-a.count(\" \")"
   ]
  },
  {
   "cell_type": "code",
   "execution_count": 24,
   "id": "0707b517",
   "metadata": {},
   "outputs": [
    {
     "name": "stdout",
     "output_type": "stream",
     "text": [
      "hey its me 1131 and Manish\n"
     ]
    }
   ],
   "source": [
    "a=1131\n",
    "b=\"Manish\"\n",
    "print(\"hey its me {} and {}\".format(a,b))"
   ]
  },
  {
   "cell_type": "code",
   "execution_count": 3,
   "id": "d70cfc95",
   "metadata": {},
   "outputs": [
    {
     "name": "stdout",
     "output_type": "stream",
     "text": [
      "Enter Age 5\n",
      "1 2 3 4 5 \n",
      "Sum is  15\n"
     ]
    }
   ],
   "source": [
    "sum=0\n",
    "age=int(input(\"Enter Age \"))\n",
    "for i in range (1,age+1):\n",
    "    sum=sum+i\n",
    "    print(i,end=\" \")\n",
    "print(\"\\nSum is \",sum)"
   ]
  },
  {
   "cell_type": "code",
   "execution_count": 12,
   "id": "4918ad4c",
   "metadata": {},
   "outputs": [
    {
     "name": "stdout",
     "output_type": "stream",
     "text": [
      "1\n",
      "2\n",
      "3\n",
      "kakska\n"
     ]
    }
   ],
   "source": [
    "def fun(*k):\n",
    "    i=0\n",
    "    while(i<len(k)):\n",
    "     print(k[i])\n",
    "     i=i+1\n",
    "fun(1,2,3,\"kakska\")"
   ]
  },
  {
   "cell_type": "code",
   "execution_count": 18,
   "id": "b5821025",
   "metadata": {},
   "outputs": [
    {
     "name": "stdout",
     "output_type": "stream",
     "text": [
      "Enter A String abc man cba\n",
      "cba nam abc "
     ]
    }
   ],
   "source": [
    "s=input(\"Enter A String \")\n",
    "m=s.split(\" \")\n",
    "for i in range (0,len(m)):\n",
    "    print(m[i][: :-1],end=\" \")\n"
   ]
  },
  {
   "cell_type": "code",
   "execution_count": 1,
   "id": "33928784",
   "metadata": {},
   "outputs": [
    {
     "name": "stdout",
     "output_type": "stream",
     "text": [
      "0  Its even\n",
      "1  Its Odd\n",
      "2  Its even\n",
      "3  Its Odd\n",
      "4  Its even\n",
      "5  Its Odd\n",
      "6  Its even\n",
      "7  Its Odd\n"
     ]
    }
   ],
   "source": [
    "def num(x):\n",
    " for i in range(0,x+1):\n",
    "    if i%2==0:\n",
    "        print(i,\" Its even\")\n",
    "    else: \n",
    "        print(i,\" Its Odd\")\n",
    "\n",
    "num(7)"
   ]
  },
  {
   "cell_type": "code",
   "execution_count": 33,
   "id": "ca2aea1b",
   "metadata": {},
   "outputs": [
    {
     "data": {
      "text/plain": [
       "True"
      ]
     },
     "execution_count": 33,
     "metadata": {},
     "output_type": "execute_result"
    }
   ],
   "source": [
    "def x(a):\n",
    "    return a==a[: :-1]\n",
    "x(\"madam\")\n"
   ]
  },
  {
   "cell_type": "code",
   "execution_count": 37,
   "id": "c615ef0e",
   "metadata": {},
   "outputs": [
    {
     "data": {
      "text/plain": [
       "['Manish', 'Nikhil', 'Harsh']"
      ]
     },
     "execution_count": 37,
     "metadata": {},
     "output_type": "execute_result"
    }
   ],
   "source": [
    "a=[\"Manish\",\"Nikhil\",\"Harsh\"]\n",
    "a.append(\"Name\")\n",
    "a.insert(2,\"Yadav\")\n",
    "a.pop()\n",
    "a.remove(\"Yadav\")\n",
    "a"
   ]
  },
  {
   "cell_type": "code",
   "execution_count": null,
   "id": "11c052d1",
   "metadata": {},
   "outputs": [],
   "source": []
  }
 ],
 "metadata": {
  "kernelspec": {
   "display_name": "Python 3 (ipykernel)",
   "language": "python",
   "name": "python3"
  },
  "language_info": {
   "codemirror_mode": {
    "name": "ipython",
    "version": 3
   },
   "file_extension": ".py",
   "mimetype": "text/x-python",
   "name": "python",
   "nbconvert_exporter": "python",
   "pygments_lexer": "ipython3",
   "version": "3.9.12"
  }
 },
 "nbformat": 4,
 "nbformat_minor": 5
}
