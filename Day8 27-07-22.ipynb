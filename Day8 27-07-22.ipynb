{
 "cells": [
  {
   "cell_type": "code",
   "execution_count": 3,
   "id": "ec46e1c4",
   "metadata": {},
   "outputs": [
    {
     "name": "stdout",
     "output_type": "stream",
     "text": [
      "Nokia 1000\n",
      "OnePlus 30000\n",
      "Samsung 22000\n"
     ]
    }
   ],
   "source": [
    "#multi-inheritance\n",
    "class phone:\n",
    "    def __init__(self,brand,model,price):\n",
    "        self.brand = brand\n",
    "        self.model=model\n",
    "        self.price=price\n",
    "    \n",
    "    \n",
    "    def fullName(self):\n",
    "        return f'{self.brand} {self.price}'\n",
    "\n",
    "    \n",
    "class smart_phone(phone):\n",
    "    def __init__(self,brand,model,price,ram,memory):\n",
    "        #phone.__init__(self,brand,model,price)\n",
    "        super().__init__(brand,model,price)\n",
    "        self.ram=ram\n",
    "        self.memory=memory\n",
    "    \n",
    "\n",
    "class super_smart_phone(smart_phone):\n",
    "    def __init__(self,brand,model,price,ram,memory,camera):\n",
    "        smart_phone.__init__(self,brand,model,price,ram,memory)\n",
    "        self.camera=camera\n",
    "        \n",
    "        \n",
    "p1=phone('Nokia','1100',1000)\n",
    "p2=smart_phone('OnePlus','5',30000,'16GB','128GB')\n",
    "p3=super_smart_phone('Samsung','M42',22000,'8GB','128GB','48MPX')\n",
    "\n",
    "\n",
    "print(p1.fullName())\n",
    "print(p2.fullName())\n",
    "print(p3.fullName())"
   ]
  },
  {
   "cell_type": "code",
   "execution_count": 4,
   "id": "98712dc2",
   "metadata": {},
   "outputs": [
    {
     "name": "stdout",
     "output_type": "stream",
     "text": [
      "Nokia 1000\n",
      "OnePlus 30000\n",
      "Samsung 22000\n"
     ]
    }
   ],
   "source": [
    "class phone:\n",
    "    def __init__(self,brand,model,price):\n",
    "        self.brand = brand\n",
    "        self.model=model\n",
    "        self.price=price\n",
    "    \n",
    "    \n",
    "    def fullName(self):\n",
    "        return f'{self.brand} {self.price}'\n",
    "\n",
    "    \n",
    "class smart_phone(phone):\n",
    "    def __init__(self,brand,model,price,ram,memory):\n",
    "        #phone.__init__(self,brand,model,price)\n",
    "        super().__init__(brand,model,price)\n",
    "        self.ram=ram\n",
    "        self.memory=memory\n",
    "    \n",
    "    def fullName(self):\n",
    "        return f'{self.brand} {self.price}'\n",
    "    \n",
    "\n",
    "class super_smart_phone(smart_phone):\n",
    "    def __init__(self,brand,model,price,ram,memory,camera):\n",
    "        smart_phone.__init__(self,brand,model,price,ram,memory)\n",
    "        self.camera=camera\n",
    "        \n",
    "        \n",
    "p1=phone('Nokia','1100',1000)\n",
    "p2=smart_phone('OnePlus','5',30000,'16GB','128GB')\n",
    "p3=super_smart_phone('Samsung','M42',22000,'8GB','128GB','48MPX')\n",
    "\n",
    "\n",
    "print(p1.fullName())\n",
    "print(p2.fullName())\n",
    "print(p3.fullName())"
   ]
  },
  {
   "cell_type": "markdown",
   "id": "f0c5cc7c",
   "metadata": {},
   "source": [
    "# Error Handling"
   ]
  },
  {
   "cell_type": "code",
   "execution_count": 5,
   "id": "33f41f00",
   "metadata": {},
   "outputs": [
    {
     "ename": "SyntaxError",
     "evalue": "invalid syntax (2201503157.py, line 8)",
     "output_type": "error",
     "traceback": [
      "\u001b[0;36m  Input \u001b[0;32mIn [5]\u001b[0;36m\u001b[0m\n\u001b[0;31m    def func()\u001b[0m\n\u001b[0m              ^\u001b[0m\n\u001b[0;31mSyntaxError\u001b[0m\u001b[0;31m:\u001b[0m invalid syntax\n"
     ]
    }
   ],
   "source": [
    "#built in error\n",
    "#exception, how to handle them\n",
    "#raise your own error, debugging etc..\n",
    "\n",
    "\n",
    "\n",
    "#syntax error\n",
    "def func()\n",
    "    pass"
   ]
  },
  {
   "cell_type": "code",
   "execution_count": 6,
   "id": "b0b25372",
   "metadata": {},
   "outputs": [
    {
     "ename": "SyntaxError",
     "evalue": "invalid syntax (2839028967.py, line 1)",
     "output_type": "error",
     "traceback": [
      "\u001b[0;36m  Input \u001b[0;32mIn [6]\u001b[0;36m\u001b[0m\n\u001b[0;31m    name='harsh'.\u001b[0m\n\u001b[0m                 ^\u001b[0m\n\u001b[0;31mSyntaxError\u001b[0m\u001b[0;31m:\u001b[0m invalid syntax\n"
     ]
    }
   ],
   "source": [
    "name='harsh'."
   ]
  },
  {
   "cell_type": "code",
   "execution_count": 8,
   "id": "08e943f2",
   "metadata": {},
   "outputs": [
    {
     "ename": "IndentationError",
     "evalue": "unindent does not match any outer indentation level (<tokenize>, line 4)",
     "output_type": "error",
     "traceback": [
      "\u001b[0;36m  File \u001b[0;32m<tokenize>:4\u001b[0;36m\u001b[0m\n\u001b[0;31m    print('bye')\u001b[0m\n\u001b[0m    ^\u001b[0m\n\u001b[0;31mIndentationError\u001b[0m\u001b[0;31m:\u001b[0m unindent does not match any outer indentation level\n"
     ]
    }
   ],
   "source": [
    "#indentation error\n",
    "def func():\n",
    "        print('hello')\n",
    "    print('bye')"
   ]
  },
  {
   "cell_type": "code",
   "execution_count": 11,
   "id": "dddf2665",
   "metadata": {},
   "outputs": [
    {
     "ename": "NameError",
     "evalue": "name 'name' is not defined",
     "output_type": "error",
     "traceback": [
      "\u001b[0;31m---------------------------------------------------------------------------\u001b[0m",
      "\u001b[0;31mNameError\u001b[0m                                 Traceback (most recent call last)",
      "Input \u001b[0;32mIn [11]\u001b[0m, in \u001b[0;36m<cell line: 2>\u001b[0;34m()\u001b[0m\n\u001b[1;32m      1\u001b[0m \u001b[38;5;66;03m#name error\u001b[39;00m\n\u001b[0;32m----> 2\u001b[0m \u001b[38;5;28mprint\u001b[39m(\u001b[43mname\u001b[49m)\n",
      "\u001b[0;31mNameError\u001b[0m: name 'name' is not defined"
     ]
    }
   ],
   "source": [
    "#name error\n",
    "print(name)"
   ]
  },
  {
   "cell_type": "code",
   "execution_count": 13,
   "id": "eae72e90",
   "metadata": {},
   "outputs": [
    {
     "ename": "TypeError",
     "evalue": "unsupported operand type(s) for +: 'int' and 'str'",
     "output_type": "error",
     "traceback": [
      "\u001b[0;31m---------------------------------------------------------------------------\u001b[0m",
      "\u001b[0;31mTypeError\u001b[0m                                 Traceback (most recent call last)",
      "Input \u001b[0;32mIn [13]\u001b[0m, in \u001b[0;36m<cell line: 2>\u001b[0;34m()\u001b[0m\n\u001b[1;32m      1\u001b[0m \u001b[38;5;66;03m#type error\u001b[39;00m\n\u001b[0;32m----> 2\u001b[0m \u001b[38;5;28mprint\u001b[39m(\u001b[38;5;241;43m5\u001b[39;49m\u001b[38;5;241;43m+\u001b[39;49m\u001b[38;5;124;43m'\u001b[39;49m\u001b[38;5;124;43mharsh\u001b[39;49m\u001b[38;5;124;43m'\u001b[39;49m)\n",
      "\u001b[0;31mTypeError\u001b[0m: unsupported operand type(s) for +: 'int' and 'str'"
     ]
    }
   ],
   "source": [
    "#type error\n",
    "print(5+'harsh')"
   ]
  },
  {
   "cell_type": "code",
   "execution_count": 14,
   "id": "772d6ae4",
   "metadata": {},
   "outputs": [
    {
     "ename": "IndexError",
     "evalue": "list index out of range",
     "output_type": "error",
     "traceback": [
      "\u001b[0;31m---------------------------------------------------------------------------\u001b[0m",
      "\u001b[0;31mIndexError\u001b[0m                                Traceback (most recent call last)",
      "Input \u001b[0;32mIn [14]\u001b[0m, in \u001b[0;36m<cell line: 3>\u001b[0;34m()\u001b[0m\n\u001b[1;32m      1\u001b[0m \u001b[38;5;66;03m#index error\u001b[39;00m\n\u001b[1;32m      2\u001b[0m l\u001b[38;5;241m=\u001b[39m[\u001b[38;5;241m1\u001b[39m,\u001b[38;5;241m2\u001b[39m,\u001b[38;5;241m3\u001b[39m]\n\u001b[0;32m----> 3\u001b[0m \u001b[38;5;28mprint\u001b[39m(\u001b[43ml\u001b[49m\u001b[43m[\u001b[49m\u001b[38;5;241;43m4\u001b[39;49m\u001b[43m]\u001b[49m)\n",
      "\u001b[0;31mIndexError\u001b[0m: list index out of range"
     ]
    }
   ],
   "source": [
    "#index error\n",
    "l=[1,2,3]\n",
    "print(l[4])"
   ]
  },
  {
   "cell_type": "code",
   "execution_count": 15,
   "id": "4c6dd4e9",
   "metadata": {},
   "outputs": [
    {
     "ename": "ValueError",
     "evalue": "invalid literal for int() with base 10: 'abc'",
     "output_type": "error",
     "traceback": [
      "\u001b[0;31m---------------------------------------------------------------------------\u001b[0m",
      "\u001b[0;31mValueError\u001b[0m                                Traceback (most recent call last)",
      "Input \u001b[0;32mIn [15]\u001b[0m, in \u001b[0;36m<cell line: 3>\u001b[0;34m()\u001b[0m\n\u001b[1;32m      1\u001b[0m \u001b[38;5;66;03m#value error\u001b[39;00m\n\u001b[1;32m      2\u001b[0m s\u001b[38;5;241m=\u001b[39m\u001b[38;5;124m'\u001b[39m\u001b[38;5;124mabc\u001b[39m\u001b[38;5;124m'\u001b[39m\n\u001b[0;32m----> 3\u001b[0m \u001b[38;5;28mprint\u001b[39m(\u001b[38;5;28;43mint\u001b[39;49m\u001b[43m(\u001b[49m\u001b[43ms\u001b[49m\u001b[43m)\u001b[49m)\n",
      "\u001b[0;31mValueError\u001b[0m: invalid literal for int() with base 10: 'abc'"
     ]
    }
   ],
   "source": [
    "#value error\n",
    "s='abc'\n",
    "print(int(s))"
   ]
  },
  {
   "cell_type": "code",
   "execution_count": 16,
   "id": "425690cc",
   "metadata": {},
   "outputs": [
    {
     "ename": "AttributeError",
     "evalue": "'list' object has no attribute 'push'",
     "output_type": "error",
     "traceback": [
      "\u001b[0;31m---------------------------------------------------------------------------\u001b[0m",
      "\u001b[0;31mAttributeError\u001b[0m                            Traceback (most recent call last)",
      "Input \u001b[0;32mIn [16]\u001b[0m, in \u001b[0;36m<cell line: 3>\u001b[0;34m()\u001b[0m\n\u001b[1;32m      1\u001b[0m \u001b[38;5;66;03m#attribute error\u001b[39;00m\n\u001b[1;32m      2\u001b[0m l\u001b[38;5;241m=\u001b[39m[\u001b[38;5;241m1\u001b[39m,\u001b[38;5;241m2\u001b[39m,\u001b[38;5;241m3\u001b[39m]\n\u001b[0;32m----> 3\u001b[0m \u001b[43ml\u001b[49m\u001b[38;5;241;43m.\u001b[39;49m\u001b[43mpush\u001b[49m(\u001b[38;5;241m1\u001b[39m)\n",
      "\u001b[0;31mAttributeError\u001b[0m: 'list' object has no attribute 'push'"
     ]
    }
   ],
   "source": [
    "#attribute error\n",
    "l=[1,2,3]\n",
    "l.push(1)"
   ]
  },
  {
   "cell_type": "code",
   "execution_count": 19,
   "id": "45802eae",
   "metadata": {},
   "outputs": [
    {
     "ename": "KeyError",
     "evalue": "'age'",
     "output_type": "error",
     "traceback": [
      "\u001b[0;31m---------------------------------------------------------------------------\u001b[0m",
      "\u001b[0;31mKeyError\u001b[0m                                  Traceback (most recent call last)",
      "Input \u001b[0;32mIn [19]\u001b[0m, in \u001b[0;36m<cell line: 3>\u001b[0;34m()\u001b[0m\n\u001b[1;32m      1\u001b[0m \u001b[38;5;66;03m#key error\u001b[39;00m\n\u001b[1;32m      2\u001b[0m d\u001b[38;5;241m=\u001b[39m{\u001b[38;5;124m'\u001b[39m\u001b[38;5;124mname\u001b[39m\u001b[38;5;124m'\u001b[39m:\u001b[38;5;124m'\u001b[39m\u001b[38;5;124mHarsh\u001b[39m\u001b[38;5;124m'\u001b[39m}\n\u001b[0;32m----> 3\u001b[0m \u001b[38;5;28mprint\u001b[39m(\u001b[43md\u001b[49m\u001b[43m[\u001b[49m\u001b[38;5;124;43m'\u001b[39;49m\u001b[38;5;124;43mage\u001b[39;49m\u001b[38;5;124;43m'\u001b[39;49m\u001b[43m]\u001b[49m)\n",
      "\u001b[0;31mKeyError\u001b[0m: 'age'"
     ]
    }
   ],
   "source": [
    "#key error\n",
    "d={'name':'Harsh'}\n",
    "print(d['age'])"
   ]
  },
  {
   "cell_type": "code",
   "execution_count": 23,
   "id": "19550995",
   "metadata": {},
   "outputs": [
    {
     "name": "stdout",
     "output_type": "stream",
     "text": [
      "8\n",
      "23\n"
     ]
    },
    {
     "ename": "TypeError",
     "evalue": "unsupported operand type(s) for +: 'int' and 'str'",
     "output_type": "error",
     "traceback": [
      "\u001b[0;31m---------------------------------------------------------------------------\u001b[0m",
      "\u001b[0;31mTypeError\u001b[0m                                 Traceback (most recent call last)",
      "Input \u001b[0;32mIn [23]\u001b[0m, in \u001b[0;36m<cell line: 7>\u001b[0;34m()\u001b[0m\n\u001b[1;32m      5\u001b[0m \u001b[38;5;28mprint\u001b[39m(add(\u001b[38;5;241m3\u001b[39m,\u001b[38;5;241m5\u001b[39m))\n\u001b[1;32m      6\u001b[0m \u001b[38;5;28mprint\u001b[39m(add(\u001b[38;5;124m'\u001b[39m\u001b[38;5;124m2\u001b[39m\u001b[38;5;124m'\u001b[39m,\u001b[38;5;124m'\u001b[39m\u001b[38;5;124m3\u001b[39m\u001b[38;5;124m'\u001b[39m))\n\u001b[0;32m----> 7\u001b[0m \u001b[38;5;28mprint\u001b[39m(\u001b[43madd\u001b[49m\u001b[43m(\u001b[49m\u001b[38;5;241;43m2\u001b[39;49m\u001b[43m,\u001b[49m\u001b[38;5;124;43m'\u001b[39;49m\u001b[38;5;124;43m7\u001b[39;49m\u001b[38;5;124;43m'\u001b[39;49m\u001b[43m)\u001b[49m)\n",
      "Input \u001b[0;32mIn [23]\u001b[0m, in \u001b[0;36madd\u001b[0;34m(a, b)\u001b[0m\n\u001b[1;32m      2\u001b[0m \u001b[38;5;28;01mdef\u001b[39;00m \u001b[38;5;21madd\u001b[39m(a,b):\n\u001b[0;32m----> 3\u001b[0m     \u001b[38;5;28;01mreturn\u001b[39;00m \u001b[43ma\u001b[49m\u001b[38;5;241;43m+\u001b[39;49m\u001b[43mb\u001b[49m\n",
      "\u001b[0;31mTypeError\u001b[0m: unsupported operand type(s) for +: 'int' and 'str'"
     ]
    }
   ],
   "source": [
    "#how to raise error\n",
    "def add(a,b):\n",
    "    return a+b\n",
    "\n",
    "print(add(3,5))\n",
    "print(add('2','3'))\n",
    "print(add(2,'7'))"
   ]
  },
  {
   "cell_type": "code",
   "execution_count": 25,
   "id": "3e124e69",
   "metadata": {},
   "outputs": [
    {
     "name": "stdout",
     "output_type": "stream",
     "text": [
      "9\n",
      "None\n"
     ]
    }
   ],
   "source": [
    "#raise error\n",
    "def add(a,b):\n",
    "    if (type(a) is int) and (type(b) is int):\n",
    "        return a+b\n",
    "    \n",
    "print(add(2,7))\n",
    "print(add('2','7'))\n"
   ]
  },
  {
   "cell_type": "code",
   "execution_count": 26,
   "id": "972f22a8",
   "metadata": {},
   "outputs": [
    {
     "name": "stdout",
     "output_type": "stream",
     "text": [
      "9\n",
      "oops you have entered the wring data type in fucntion\n"
     ]
    }
   ],
   "source": [
    "def add(a,b):\n",
    "    if (type(a) is int) and (type(b) is int):\n",
    "        return a+b\n",
    "    return 'oops you have entered the wring data type in fucntion'\n",
    "    \n",
    "print(add(2,7))\n",
    "print(add('2','7'))"
   ]
  },
  {
   "cell_type": "code",
   "execution_count": 31,
   "id": "97e5043e",
   "metadata": {},
   "outputs": [
    {
     "name": "stdout",
     "output_type": "stream",
     "text": [
      "9\n"
     ]
    },
    {
     "ename": "TypeError",
     "evalue": "oops you have entered the wrong data type in fucntion",
     "output_type": "error",
     "traceback": [
      "\u001b[0;31m---------------------------------------------------------------------------\u001b[0m",
      "\u001b[0;31mTypeError\u001b[0m                                 Traceback (most recent call last)",
      "Input \u001b[0;32mIn [31]\u001b[0m, in \u001b[0;36m<cell line: 7>\u001b[0;34m()\u001b[0m\n\u001b[1;32m      4\u001b[0m     \u001b[38;5;28;01mraise\u001b[39;00m \u001b[38;5;167;01mTypeError\u001b[39;00m(\u001b[38;5;124m'\u001b[39m\u001b[38;5;124moops you have entered the wrong data type in fucntion\u001b[39m\u001b[38;5;124m'\u001b[39m)\n\u001b[1;32m      6\u001b[0m \u001b[38;5;28mprint\u001b[39m(add(\u001b[38;5;241m2\u001b[39m,\u001b[38;5;241m7\u001b[39m))\n\u001b[0;32m----> 7\u001b[0m \u001b[38;5;28mprint\u001b[39m(\u001b[43madd\u001b[49m\u001b[43m(\u001b[49m\u001b[38;5;124;43m'\u001b[39;49m\u001b[38;5;124;43m2\u001b[39;49m\u001b[38;5;124;43m'\u001b[39;49m\u001b[43m,\u001b[49m\u001b[38;5;124;43m'\u001b[39;49m\u001b[38;5;124;43m7\u001b[39;49m\u001b[38;5;124;43m'\u001b[39;49m\u001b[43m)\u001b[49m)\n",
      "Input \u001b[0;32mIn [31]\u001b[0m, in \u001b[0;36madd\u001b[0;34m(a, b)\u001b[0m\n\u001b[1;32m      2\u001b[0m \u001b[38;5;28;01mif\u001b[39;00m (\u001b[38;5;28mtype\u001b[39m(a) \u001b[38;5;129;01mis\u001b[39;00m \u001b[38;5;28mint\u001b[39m) \u001b[38;5;129;01mand\u001b[39;00m (\u001b[38;5;28mtype\u001b[39m(b) \u001b[38;5;129;01mis\u001b[39;00m \u001b[38;5;28mint\u001b[39m):\n\u001b[1;32m      3\u001b[0m     \u001b[38;5;28;01mreturn\u001b[39;00m a\u001b[38;5;241m+\u001b[39mb\n\u001b[0;32m----> 4\u001b[0m \u001b[38;5;28;01mraise\u001b[39;00m \u001b[38;5;167;01mTypeError\u001b[39;00m(\u001b[38;5;124m'\u001b[39m\u001b[38;5;124moops you have entered the wrong data type in fucntion\u001b[39m\u001b[38;5;124m'\u001b[39m)\n",
      "\u001b[0;31mTypeError\u001b[0m: oops you have entered the wrong data type in fucntion"
     ]
    }
   ],
   "source": [
    "def add(a,b):\n",
    "    if (type(a) is int) and (type(b) is int):\n",
    "        return a+b\n",
    "    raise TypeError('oops you have entered the wrong data type in fucntion')\n",
    "    \n",
    "print(add(2,7))\n",
    "print(add('2','7'))"
   ]
  },
  {
   "cell_type": "markdown",
   "id": "03413c16",
   "metadata": {},
   "source": [
    "# Exception handling"
   ]
  },
  {
   "cell_type": "code",
   "execution_count": 35,
   "id": "72ec787b",
   "metadata": {},
   "outputs": [
    {
     "name": "stdout",
     "output_type": "stream",
     "text": [
      "Enter your age:7\n",
      "you can't play the game\n"
     ]
    }
   ],
   "source": [
    "# age = int (input(\"Enter your age:\"))\n",
    "# if age<18:\n",
    "#     print('you can\\'t play the game')\n",
    "# else:\n",
    "#     print('you can play the game')\n",
    "while True:\n",
    "    try:\n",
    "        age=int(input(\"Enter your age:\"))\n",
    "        break\n",
    "    \n",
    "    except ValueError:\n",
    "        print('invalid entry')\n",
    "        \n",
    "if age<18:\n",
    "    print('you can\\'t play the game')\n",
    "else:\n",
    "    print('you can play the game')"
   ]
  },
  {
   "cell_type": "code",
   "execution_count": null,
   "id": "03b2eec1",
   "metadata": {},
   "outputs": [],
   "source": []
  }
 ],
 "metadata": {
  "kernelspec": {
   "display_name": "Python 3 (ipykernel)",
   "language": "python",
   "name": "python3"
  },
  "language_info": {
   "codemirror_mode": {
    "name": "ipython",
    "version": 3
   },
   "file_extension": ".py",
   "mimetype": "text/x-python",
   "name": "python",
   "nbconvert_exporter": "python",
   "pygments_lexer": "ipython3",
   "version": "3.9.12"
  }
 },
 "nbformat": 4,
 "nbformat_minor": 5
}
