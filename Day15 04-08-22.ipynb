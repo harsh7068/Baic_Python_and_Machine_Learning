{
 "cells": [
  {
   "cell_type": "code",
   "execution_count": 1,
   "id": "cba06954",
   "metadata": {},
   "outputs": [],
   "source": [
    "import pandas as pd"
   ]
  },
  {
   "cell_type": "code",
   "execution_count": 6,
   "id": "fb4739f8",
   "metadata": {},
   "outputs": [
    {
     "name": "stderr",
     "output_type": "stream",
     "text": [
      "/var/folders/x0/m85x0zv10gl3rp8t6vmzg8gm0000gn/T/ipykernel_8290/3968662003.py:1: FutureWarning: The squeeze argument has been deprecated and will be removed in a future version. Append .squeeze(\"columns\") to the call to squeeze.\n",
      "\n",
      "\n",
      "  data=pd.read_csv('pokemon.csv',squeeze=True,usecols=['Pokemon'])\n"
     ]
    },
    {
     "data": {
      "text/plain": [
       "0       Bulbasaur\n",
       "1         Ivysaur\n",
       "2        Venusaur\n",
       "3      Charmander\n",
       "4      Charmeleon\n",
       "          ...    \n",
       "716       Yveltal\n",
       "717       Zygarde\n",
       "718       Diancie\n",
       "719         Hoopa\n",
       "720     Volcanion\n",
       "Name: Pokemon, Length: 721, dtype: object"
      ]
     },
     "execution_count": 6,
     "metadata": {},
     "output_type": "execute_result"
    }
   ],
   "source": [
    "data=pd.read_csv('pokemon.csv',squeeze=True,usecols=['Pokemon'])\n",
    "data"
   ]
  },
  {
   "cell_type": "code",
   "execution_count": 7,
   "id": "5bd2bfad",
   "metadata": {},
   "outputs": [
    {
     "data": {
      "text/plain": [
       "459    Abomasnow\n",
       "62          Abra\n",
       "358        Absol\n",
       "616     Accelgor\n",
       "680    Aegislash\n",
       "         ...    \n",
       "570      Zoroark\n",
       "569        Zorua\n",
       "40         Zubat\n",
       "633     Zweilous\n",
       "717      Zygarde\n",
       "Name: Pokemon, Length: 721, dtype: object"
      ]
     },
     "execution_count": 7,
     "metadata": {},
     "output_type": "execute_result"
    }
   ],
   "source": [
    "data.sort_values()"
   ]
  },
  {
   "cell_type": "code",
   "execution_count": 8,
   "id": "db6a731f",
   "metadata": {},
   "outputs": [
    {
     "name": "stderr",
     "output_type": "stream",
     "text": [
      "/var/folders/x0/m85x0zv10gl3rp8t6vmzg8gm0000gn/T/ipykernel_8290/1004346915.py:2: FutureWarning: The squeeze argument has been deprecated and will be removed in a future version. Append .squeeze(\"columns\") to the call to squeeze.\n",
      "\n",
      "\n",
      "  data=pd.read_csv('pokemon.csv',squeeze=True,index_col='Pokemon')\n"
     ]
    },
    {
     "data": {
      "text/plain": [
       "Pokemon\n",
       "Bulbasaur       Grass\n",
       "Ivysaur         Grass\n",
       "Venusaur        Grass\n",
       "Charmander       Fire\n",
       "Charmeleon       Fire\n",
       "               ...   \n",
       "Yveltal          Dark\n",
       "Zygarde        Dragon\n",
       "Diancie          Rock\n",
       "Hoopa         Psychic\n",
       "Volcanion        Fire\n",
       "Name: Type, Length: 721, dtype: object"
      ]
     },
     "execution_count": 8,
     "metadata": {},
     "output_type": "execute_result"
    }
   ],
   "source": [
    "#sort_index()\n",
    "data=pd.read_csv('pokemon.csv',squeeze=True,index_col='Pokemon')\n",
    "data"
   ]
  },
  {
   "cell_type": "code",
   "execution_count": 9,
   "id": "cbb4ce85",
   "metadata": {},
   "outputs": [
    {
     "data": {
      "text/plain": [
       "Pokemon\n",
       "Abomasnow      Grass\n",
       "Abra         Psychic\n",
       "Absol           Dark\n",
       "Accelgor         Bug\n",
       "Aegislash      Steel\n",
       "              ...   \n",
       "Zoroark         Dark\n",
       "Zorua           Dark\n",
       "Zubat         Poison\n",
       "Zweilous        Dark\n",
       "Zygarde       Dragon\n",
       "Name: Type, Length: 721, dtype: object"
      ]
     },
     "execution_count": 9,
     "metadata": {},
     "output_type": "execute_result"
    }
   ],
   "source": [
    "data.sort_index()"
   ]
  },
  {
   "cell_type": "code",
   "execution_count": 11,
   "id": "e57c76cf",
   "metadata": {},
   "outputs": [
    {
     "data": {
      "text/plain": [
       "Pokemon\n",
       "Zygarde       Dragon\n",
       "Zweilous        Dark\n",
       "Zubat         Poison\n",
       "Zorua           Dark\n",
       "Zoroark         Dark\n",
       "              ...   \n",
       "Aegislash      Steel\n",
       "Accelgor         Bug\n",
       "Absol           Dark\n",
       "Abra         Psychic\n",
       "Abomasnow      Grass\n",
       "Name: Type, Length: 721, dtype: object"
      ]
     },
     "execution_count": 11,
     "metadata": {},
     "output_type": "execute_result"
    }
   ],
   "source": [
    "data.sort_index(ascending=False)"
   ]
  },
  {
   "cell_type": "code",
   "execution_count": 14,
   "id": "429ed2e7",
   "metadata": {},
   "outputs": [],
   "source": [
    "data.sort_index(ascending=False,inplace=True)"
   ]
  },
  {
   "cell_type": "code",
   "execution_count": 15,
   "id": "977a7264",
   "metadata": {},
   "outputs": [
    {
     "data": {
      "text/plain": [
       "Pokemon\n",
       "Zygarde     Dragon\n",
       "Zweilous      Dark\n",
       "Zubat       Poison\n",
       "Zorua         Dark\n",
       "Name: Type, dtype: object"
      ]
     },
     "execution_count": 15,
     "metadata": {},
     "output_type": "execute_result"
    }
   ],
   "source": [
    "data.sort_index(ascending=False,inplace=True)\n",
    "data.head(4)"
   ]
  },
  {
   "cell_type": "code",
   "execution_count": 20,
   "id": "e1e203fa",
   "metadata": {},
   "outputs": [
    {
     "data": {
      "text/plain": [
       "Pokemon\n",
       "Abomasnow      Grass\n",
       "Abra         Psychic\n",
       "Absol           Dark\n",
       "Accelgor         Bug\n",
       "Name: Type, dtype: object"
      ]
     },
     "execution_count": 20,
     "metadata": {},
     "output_type": "execute_result"
    }
   ],
   "source": [
    "data.sort_index(ascending=True,inplace=True)\n",
    "data.head(4)"
   ]
  },
  {
   "cell_type": "code",
   "execution_count": 21,
   "id": "202ce56c",
   "metadata": {},
   "outputs": [
    {
     "name": "stderr",
     "output_type": "stream",
     "text": [
      "/var/folders/x0/m85x0zv10gl3rp8t6vmzg8gm0000gn/T/ipykernel_8290/27767318.py:2: FutureWarning: The squeeze argument has been deprecated and will be removed in a future version. Append .squeeze(\"columns\") to the call to squeeze.\n",
      "\n",
      "\n",
      "  data=pd.read_csv('pokemon.csv',squeeze=True,usecols=['Pokemon'])\n"
     ]
    },
    {
     "data": {
      "text/plain": [
       "0       Bulbasaur\n",
       "1         Ivysaur\n",
       "2        Venusaur\n",
       "3      Charmander\n",
       "4      Charmeleon\n",
       "          ...    \n",
       "716       Yveltal\n",
       "717       Zygarde\n",
       "718       Diancie\n",
       "719         Hoopa\n",
       "720     Volcanion\n",
       "Name: Pokemon, Length: 721, dtype: object"
      ]
     },
     "execution_count": 21,
     "metadata": {},
     "output_type": "execute_result"
    }
   ],
   "source": [
    "#How to fetch data according to index number\n",
    "data=pd.read_csv('pokemon.csv',squeeze=True,usecols=['Pokemon'])\n",
    "data"
   ]
  },
  {
   "cell_type": "code",
   "execution_count": 25,
   "id": "5f043250",
   "metadata": {},
   "outputs": [
    {
     "data": {
      "text/plain": [
       "'Metapod'"
      ]
     },
     "execution_count": 25,
     "metadata": {},
     "output_type": "execute_result"
    }
   ],
   "source": [
    "data[10]"
   ]
  },
  {
   "cell_type": "code",
   "execution_count": 27,
   "id": "53d09015",
   "metadata": {},
   "outputs": [
    {
     "data": {
      "text/plain": [
       "10       Metapod\n",
       "40         Zubat\n",
       "100    Electrode\n",
       "400    Kricketot\n",
       "Name: Pokemon, dtype: object"
      ]
     },
     "execution_count": 27,
     "metadata": {},
     "output_type": "execute_result"
    }
   ],
   "source": [
    "data[[10,40,100,400]]"
   ]
  },
  {
   "cell_type": "code",
   "execution_count": 28,
   "id": "52dd6539",
   "metadata": {},
   "outputs": [
    {
     "data": {
      "text/plain": [
       "0      Bulbasaur\n",
       "1        Ivysaur\n",
       "2       Venusaur\n",
       "3     Charmander\n",
       "4     Charmeleon\n",
       "5      Charizard\n",
       "6       Squirtle\n",
       "7      Wartortle\n",
       "8      Blastoise\n",
       "9       Caterpie\n",
       "10       Metapod\n",
       "11    Butterfree\n",
       "12        Weedle\n",
       "13        Kakuna\n",
       "14      Beedrill\n",
       "15        Pidgey\n",
       "16     Pidgeotto\n",
       "17       Pidgeot\n",
       "18       Rattata\n",
       "19      Raticate\n",
       "20       Spearow\n",
       "21        Fearow\n",
       "22         Ekans\n",
       "23         Arbok\n",
       "24       Pikachu\n",
       "25        Raichu\n",
       "26     Sandshrew\n",
       "Name: Pokemon, dtype: object"
      ]
     },
     "execution_count": 28,
     "metadata": {},
     "output_type": "execute_result"
    }
   ],
   "source": [
    "data[0:27]"
   ]
  },
  {
   "cell_type": "code",
   "execution_count": 29,
   "id": "a79ac18b",
   "metadata": {},
   "outputs": [
    {
     "data": {
      "text/plain": [
       "50       Dugtrio\n",
       "51        Meowth\n",
       "52       Persian\n",
       "53       Psyduck\n",
       "54       Golduck\n",
       "         ...    \n",
       "716      Yveltal\n",
       "717      Zygarde\n",
       "718      Diancie\n",
       "719        Hoopa\n",
       "720    Volcanion\n",
       "Name: Pokemon, Length: 671, dtype: object"
      ]
     },
     "execution_count": 29,
     "metadata": {},
     "output_type": "execute_result"
    }
   ],
   "source": [
    "data[50:]"
   ]
  },
  {
   "cell_type": "code",
   "execution_count": 30,
   "id": "1112e137",
   "metadata": {},
   "outputs": [
    {
     "data": {
      "text/plain": [
       "0      Bulbasaur\n",
       "1        Ivysaur\n",
       "2       Venusaur\n",
       "3     Charmander\n",
       "4     Charmeleon\n",
       "         ...    \n",
       "75         Golem\n",
       "76        Ponyta\n",
       "77      Rapidash\n",
       "78      Slowpoke\n",
       "79       Slowbro\n",
       "Name: Pokemon, Length: 80, dtype: object"
      ]
     },
     "execution_count": 30,
     "metadata": {},
     "output_type": "execute_result"
    }
   ],
   "source": [
    "data[:80]"
   ]
  },
  {
   "cell_type": "code",
   "execution_count": 31,
   "id": "3ff0d371",
   "metadata": {},
   "outputs": [
    {
     "data": {
      "text/plain": [
       "0      Bulbasaur\n",
       "2       Venusaur\n",
       "4     Charmeleon\n",
       "6       Squirtle\n",
       "8      Blastoise\n",
       "10       Metapod\n",
       "12        Weedle\n",
       "14      Beedrill\n",
       "16     Pidgeotto\n",
       "18       Rattata\n",
       "20       Spearow\n",
       "22         Ekans\n",
       "24       Pikachu\n",
       "26     Sandshrew\n",
       "28       Nidoran\n",
       "30     Nidoqueen\n",
       "32      Nidorino\n",
       "34      Clefairy\n",
       "36        Vulpix\n",
       "38    Jigglypuff\n",
       "40         Zubat\n",
       "42        Oddish\n",
       "44     Vileplume\n",
       "46      Parasect\n",
       "48      Venomoth\n",
       "Name: Pokemon, dtype: object"
      ]
     },
     "execution_count": 31,
     "metadata": {},
     "output_type": "execute_result"
    }
   ],
   "source": [
    "data[0:50:2]"
   ]
  },
  {
   "cell_type": "code",
   "execution_count": 32,
   "id": "1d118892",
   "metadata": {},
   "outputs": [
    {
     "data": {
      "text/plain": [
       "671        Skiddo\n",
       "672        Gogoat\n",
       "673       Pancham\n",
       "674       Pangoro\n",
       "675       Furfrou\n",
       "676        Espurr\n",
       "677      Meowstic\n",
       "678       Honedge\n",
       "679      Doublade\n",
       "680     Aegislash\n",
       "681      Spritzee\n",
       "682    Aromatisse\n",
       "683       Swirlix\n",
       "684      Slurpuff\n",
       "685         Inkay\n",
       "686       Malamar\n",
       "687       Binacle\n",
       "688    Barbaracle\n",
       "689        Skrelp\n",
       "690      Dragalge\n",
       "691     Clauncher\n",
       "692     Clawitzer\n",
       "693    Helioptile\n",
       "694     Heliolisk\n",
       "695        Tyrunt\n",
       "696     Tyrantrum\n",
       "697        Amaura\n",
       "698       Aurorus\n",
       "699       Sylveon\n",
       "700      Hawlucha\n",
       "701       Dedenne\n",
       "702       Carbink\n",
       "703         Goomy\n",
       "704       Sliggoo\n",
       "705        Goodra\n",
       "706        Klefki\n",
       "707      Phantump\n",
       "708     Trevenant\n",
       "709     Pumpkaboo\n",
       "710     Gourgeist\n",
       "711      Bergmite\n",
       "712       Avalugg\n",
       "713        Noibat\n",
       "714       Noivern\n",
       "715       Xerneas\n",
       "716       Yveltal\n",
       "717       Zygarde\n",
       "718       Diancie\n",
       "719         Hoopa\n",
       "720     Volcanion\n",
       "Name: Pokemon, dtype: object"
      ]
     },
     "execution_count": 32,
     "metadata": {},
     "output_type": "execute_result"
    }
   ],
   "source": [
    "data[-50:]"
   ]
  },
  {
   "cell_type": "code",
   "execution_count": 33,
   "id": "c7c79129",
   "metadata": {},
   "outputs": [
    {
     "data": {
      "text/plain": [
       "671        Skiddo\n",
       "672        Gogoat\n",
       "673       Pancham\n",
       "674       Pangoro\n",
       "675       Furfrou\n",
       "676        Espurr\n",
       "677      Meowstic\n",
       "678       Honedge\n",
       "679      Doublade\n",
       "680     Aegislash\n",
       "681      Spritzee\n",
       "682    Aromatisse\n",
       "683       Swirlix\n",
       "684      Slurpuff\n",
       "685         Inkay\n",
       "686       Malamar\n",
       "687       Binacle\n",
       "688    Barbaracle\n",
       "689        Skrelp\n",
       "690      Dragalge\n",
       "Name: Pokemon, dtype: object"
      ]
     },
     "execution_count": 33,
     "metadata": {},
     "output_type": "execute_result"
    }
   ],
   "source": [
    "data[-50:-30]"
   ]
  },
  {
   "cell_type": "code",
   "execution_count": 34,
   "id": "5113c8ba",
   "metadata": {},
   "outputs": [
    {
     "data": {
      "text/plain": [
       "Series([], Name: Pokemon, dtype: object)"
      ]
     },
     "execution_count": 34,
     "metadata": {},
     "output_type": "execute_result"
    }
   ],
   "source": [
    "data[-30:-50]"
   ]
  },
  {
   "cell_type": "code",
   "execution_count": 35,
   "id": "b879c305",
   "metadata": {},
   "outputs": [
    {
     "name": "stderr",
     "output_type": "stream",
     "text": [
      "/var/folders/x0/m85x0zv10gl3rp8t6vmzg8gm0000gn/T/ipykernel_8290/117401603.py:1: FutureWarning: The squeeze argument has been deprecated and will be removed in a future version. Append .squeeze(\"columns\") to the call to squeeze.\n",
      "\n",
      "\n",
      "  data=pd.read_csv('pokemon.csv',squeeze=True,index_col='Pokemon')\n"
     ]
    },
    {
     "data": {
      "text/plain": [
       "Pokemon\n",
       "Bulbasaur       Grass\n",
       "Ivysaur         Grass\n",
       "Venusaur        Grass\n",
       "Charmander       Fire\n",
       "Charmeleon       Fire\n",
       "               ...   \n",
       "Yveltal          Dark\n",
       "Zygarde        Dragon\n",
       "Diancie          Rock\n",
       "Hoopa         Psychic\n",
       "Volcanion        Fire\n",
       "Name: Type, Length: 721, dtype: object"
      ]
     },
     "execution_count": 35,
     "metadata": {},
     "output_type": "execute_result"
    }
   ],
   "source": [
    "data=pd.read_csv('pokemon.csv',squeeze=True,index_col='Pokemon')\n",
    "data"
   ]
  },
  {
   "cell_type": "code",
   "execution_count": 38,
   "id": "37cea02b",
   "metadata": {},
   "outputs": [
    {
     "data": {
      "text/plain": [
       "'Fire'"
      ]
     },
     "execution_count": 38,
     "metadata": {},
     "output_type": "execute_result"
    }
   ],
   "source": [
    "data[4]"
   ]
  },
  {
   "cell_type": "code",
   "execution_count": 40,
   "id": "55b29cae",
   "metadata": {},
   "outputs": [
    {
     "data": {
      "text/plain": [
       "'Fire'"
      ]
     },
     "execution_count": 40,
     "metadata": {},
     "output_type": "execute_result"
    }
   ],
   "source": [
    "data['Charmeleon']"
   ]
  },
  {
   "cell_type": "code",
   "execution_count": 41,
   "id": "986b9db0",
   "metadata": {},
   "outputs": [
    {
     "data": {
      "text/plain": [
       "Pokemon\n",
       "Bulbasaur     Grass\n",
       "Ivysaur       Grass\n",
       "Venusaur      Grass\n",
       "Charmander     Fire\n",
       "Charmeleon     Fire\n",
       "Name: Type, dtype: object"
      ]
     },
     "execution_count": 41,
     "metadata": {},
     "output_type": "execute_result"
    }
   ],
   "source": [
    "data[:'Charmeleon']"
   ]
  },
  {
   "cell_type": "code",
   "execution_count": 44,
   "id": "3dcff22c",
   "metadata": {},
   "outputs": [
    {
     "name": "stderr",
     "output_type": "stream",
     "text": [
      "/var/folders/x0/m85x0zv10gl3rp8t6vmzg8gm0000gn/T/ipykernel_8290/3962550720.py:1: FutureWarning: The squeeze argument has been deprecated and will be removed in a future version. Append .squeeze(\"columns\") to the call to squeeze.\n",
      "\n",
      "\n",
      "  data=pd.read_csv('Pokemon.csv',index_col='Pokemon',squeeze=True)\n"
     ]
    },
    {
     "data": {
      "text/plain": [
       "Pokemon\n",
       "Abomasnow      Grass\n",
       "Abra         Psychic\n",
       "Absol           Dark\n",
       "Accelgor         Bug\n",
       "Aegislash      Steel\n",
       "              ...   \n",
       "Zoroark         Dark\n",
       "Zorua           Dark\n",
       "Zubat         Poison\n",
       "Zweilous        Dark\n",
       "Zygarde       Dragon\n",
       "Name: Type, Length: 721, dtype: object"
      ]
     },
     "execution_count": 44,
     "metadata": {},
     "output_type": "execute_result"
    }
   ],
   "source": [
    "data=pd.read_csv('Pokemon.csv',index_col='Pokemon',squeeze=True)\n",
    "data.sort_index(inplace=True)\n",
    "data"
   ]
  },
  {
   "cell_type": "code",
   "execution_count": 45,
   "id": "a344cad2",
   "metadata": {},
   "outputs": [
    {
     "data": {
      "text/plain": [
       "'Dark'"
      ]
     },
     "execution_count": 45,
     "metadata": {},
     "output_type": "execute_result"
    }
   ],
   "source": [
    "#get command(only implemented when data is sorted)\n",
    "data.get('Zoroark')"
   ]
  },
  {
   "cell_type": "code",
   "execution_count": 46,
   "id": "2e4d8722",
   "metadata": {},
   "outputs": [
    {
     "data": {
      "text/plain": [
       "Pokemon\n",
       "Aegislash    Steel\n",
       "Absol         Dark\n",
       "Name: Type, dtype: object"
      ]
     },
     "execution_count": 46,
     "metadata": {},
     "output_type": "execute_result"
    }
   ],
   "source": [
    "data.get(['Aegislash','Absol'])"
   ]
  },
  {
   "cell_type": "code",
   "execution_count": 47,
   "id": "6b975ffd",
   "metadata": {},
   "outputs": [
    {
     "data": {
      "text/plain": [
       "Pokemon\n",
       "Aegislash    Steel\n",
       "Absol         Dark\n",
       "Name: Type, dtype: object"
      ]
     },
     "execution_count": 47,
     "metadata": {},
     "output_type": "execute_result"
    }
   ],
   "source": [
    "data.get(key=['Aegislash','Absol'])"
   ]
  },
  {
   "cell_type": "code",
   "execution_count": 48,
   "id": "88069080",
   "metadata": {},
   "outputs": [
    {
     "data": {
      "text/plain": [
       "'This is not pokemon'"
      ]
     },
     "execution_count": 48,
     "metadata": {},
     "output_type": "execute_result"
    }
   ],
   "source": [
    "data.get(key='Digmon',default='This is not pokemon')"
   ]
  },
  {
   "cell_type": "code",
   "execution_count": 49,
   "id": "3419b0db",
   "metadata": {},
   "outputs": [
    {
     "name": "stderr",
     "output_type": "stream",
     "text": [
      "/var/folders/x0/m85x0zv10gl3rp8t6vmzg8gm0000gn/T/ipykernel_8290/1332871755.py:1: FutureWarning: The squeeze argument has been deprecated and will be removed in a future version. Append .squeeze(\"columns\") to the call to squeeze.\n",
      "\n",
      "\n",
      "  google = pd.read_csv('google_stock_price.csv',squeeze=True)\n"
     ]
    },
    {
     "data": {
      "text/plain": [
       "0        50.12\n",
       "1        54.10\n",
       "2        54.65\n",
       "3        52.38\n",
       "4        52.95\n",
       "         ...  \n",
       "3007    772.88\n",
       "3008    771.07\n",
       "3009    773.18\n",
       "3010    771.61\n",
       "3011    782.22\n",
       "Name: Stock Price, Length: 3012, dtype: float64"
      ]
     },
     "execution_count": 49,
     "metadata": {},
     "output_type": "execute_result"
    }
   ],
   "source": [
    "google = pd.read_csv('google_stock_price.csv',squeeze=True)\n",
    "google"
   ]
  },
  {
   "cell_type": "code",
   "execution_count": 50,
   "id": "e327299a",
   "metadata": {},
   "outputs": [
    {
     "data": {
      "text/plain": [
       "3012"
      ]
     },
     "execution_count": 50,
     "metadata": {},
     "output_type": "execute_result"
    }
   ],
   "source": [
    "google.count()"
   ]
  },
  {
   "cell_type": "code",
   "execution_count": 51,
   "id": "2f78edd4",
   "metadata": {},
   "outputs": [
    {
     "data": {
      "text/plain": [
       "3012"
      ]
     },
     "execution_count": 51,
     "metadata": {},
     "output_type": "execute_result"
    }
   ],
   "source": [
    "len(google)"
   ]
  },
  {
   "cell_type": "code",
   "execution_count": 52,
   "id": "4c992a9a",
   "metadata": {},
   "outputs": [
    {
     "data": {
      "text/plain": [
       "1006942.0"
      ]
     },
     "execution_count": 52,
     "metadata": {},
     "output_type": "execute_result"
    }
   ],
   "source": [
    "google.sum()"
   ]
  },
  {
   "cell_type": "code",
   "execution_count": 54,
   "id": "98784e56",
   "metadata": {},
   "outputs": [
    {
     "data": {
      "text/plain": [
       "334.31009296148744"
      ]
     },
     "execution_count": 54,
     "metadata": {},
     "output_type": "execute_result"
    }
   ],
   "source": [
    "google.mean()"
   ]
  },
  {
   "cell_type": "code",
   "execution_count": 56,
   "id": "94c1aba2",
   "metadata": {},
   "outputs": [
    {
     "data": {
      "text/plain": [
       "334.3100929614874"
      ]
     },
     "execution_count": 56,
     "metadata": {},
     "output_type": "execute_result"
    }
   ],
   "source": [
    "google.sum()/len(google)"
   ]
  },
  {
   "cell_type": "code",
   "execution_count": 57,
   "id": "9c091380",
   "metadata": {},
   "outputs": [
    {
     "data": {
      "text/plain": [
       "173.18720477113106"
      ]
     },
     "execution_count": 57,
     "metadata": {},
     "output_type": "execute_result"
    }
   ],
   "source": [
    "google.std() #standard deviation"
   ]
  },
  {
   "cell_type": "code",
   "execution_count": 58,
   "id": "b46683a5",
   "metadata": {},
   "outputs": [
    {
     "data": {
      "text/plain": [
       "49.95"
      ]
     },
     "execution_count": 58,
     "metadata": {},
     "output_type": "execute_result"
    }
   ],
   "source": [
    "google.min()"
   ]
  },
  {
   "cell_type": "code",
   "execution_count": 59,
   "id": "0427d38c",
   "metadata": {},
   "outputs": [
    {
     "data": {
      "text/plain": [
       "782.22"
      ]
     },
     "execution_count": 59,
     "metadata": {},
     "output_type": "execute_result"
    }
   ],
   "source": [
    "google.max()"
   ]
  },
  {
   "cell_type": "code",
   "execution_count": null,
   "id": "f91f0efd",
   "metadata": {},
   "outputs": [],
   "source": []
  }
 ],
 "metadata": {
  "kernelspec": {
   "display_name": "Python 3 (ipykernel)",
   "language": "python",
   "name": "python3"
  },
  "language_info": {
   "codemirror_mode": {
    "name": "ipython",
    "version": 3
   },
   "file_extension": ".py",
   "mimetype": "text/x-python",
   "name": "python",
   "nbconvert_exporter": "python",
   "pygments_lexer": "ipython3",
   "version": "3.9.12"
  }
 },
 "nbformat": 4,
 "nbformat_minor": 5
}
