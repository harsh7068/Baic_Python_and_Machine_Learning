{
 "cells": [
  {
   "cell_type": "code",
   "execution_count": 1,
   "id": "c73f69de",
   "metadata": {},
   "outputs": [
    {
     "name": "stdout",
     "output_type": "stream",
     "text": [
      "[2, 4, 6]\n",
      "[2, 4, 6]\n"
     ]
    }
   ],
   "source": [
    "#filter\n",
    "num=[1,2,3,4,5,6]\n",
    "def square(a):\n",
    "    return a%2==0\n",
    "print(list(filter(square,num)))\n",
    "\n",
    "print(list(filter(lambda a:a%2==0,num)))"
   ]
  },
  {
   "cell_type": "code",
   "execution_count": 2,
   "id": "225ed240",
   "metadata": {},
   "outputs": [
    {
     "name": "stdout",
     "output_type": "stream",
     "text": [
      "[(1, 4), (2, 5), (3, 6)]\n"
     ]
    }
   ],
   "source": [
    "#zip function\n",
    "l1=[1,2,3]\n",
    "l2=[4,5,6]\n",
    "print(list(zip(l1,l2)))"
   ]
  },
  {
   "cell_type": "code",
   "execution_count": 6,
   "id": "98626278",
   "metadata": {},
   "outputs": [
    {
     "name": "stdout",
     "output_type": "stream",
     "text": [
      "[('id1', 'Harsh'), ('id2', 'Aradhna'), ('id3', 'Aman')]\n",
      "(('id1', 'Harsh'), ('id2', 'Aradhna'), ('id3', 'Aman'))\n",
      "{'id1': 'Harsh', 'id2': 'Aradhna', 'id3': 'Aman'}\n"
     ]
    }
   ],
   "source": [
    "user=['id1','id2','id3']\n",
    "name=['Harsh','Aradhna','Aman']\n",
    "\n",
    "print(list(zip(user,name)))\n",
    "print(tuple(zip(user,name)))\n",
    "print(dict(zip(user,name)))"
   ]
  },
  {
   "cell_type": "code",
   "execution_count": 13,
   "id": "8ae01e1a",
   "metadata": {},
   "outputs": [
    {
     "name": "stdout",
     "output_type": "stream",
     "text": [
      "[2.5, 3.5, 4.5]\n"
     ]
    }
   ],
   "source": [
    "l1=[1,2,3]\n",
    "l2=[4,5,6]\n",
    "def average_finder(l1,l2):\n",
    "    average=[]\n",
    "    for pair in zip(l1,l2):\n",
    "        average.append(sum(pair)/len(pair))\n",
    "    return average\n",
    "print(average_finder(l1,l2))"
   ]
  },
  {
   "cell_type": "code",
   "execution_count": 20,
   "id": "b2523b3f",
   "metadata": {},
   "outputs": [
    {
     "name": "stdout",
     "output_type": "stream",
     "text": [
      "1\n",
      "2\n",
      "3\n",
      "4\n",
      "5\n",
      "6\n",
      "7\n",
      "8\n",
      "9\n",
      "10\n"
     ]
    }
   ],
   "source": [
    "#brea,continue,pass\n",
    "for i in range(1,11):\n",
    "#     if i>=5:\n",
    "#         break\n",
    "#     print(i)\n",
    "\n",
    "\n",
    "\n",
    "#     if i>=5 and i<=7:\n",
    "#         continue\n",
    "#     print(i)\n",
    "\n",
    "\n",
    "\n",
    "    if i>=5 and i<=7:\n",
    "        pass\n",
    "    print(i)"
   ]
  },
  {
   "cell_type": "code",
   "execution_count": 21,
   "id": "b572a1ef",
   "metadata": {},
   "outputs": [
    {
     "name": "stdout",
     "output_type": "stream",
     "text": [
      "<function outer.<locals>.inner at 0x7fb5211b8d30>\n",
      "This is function\n"
     ]
    }
   ],
   "source": [
    "#function returning function\n",
    "def outer():\n",
    "    def inner():\n",
    "        print(\"This is function\")\n",
    "    return inner\n",
    "\n",
    "print(outer())\n",
    "var = outer()\n",
    "var()"
   ]
  },
  {
   "cell_type": "code",
   "execution_count": 23,
   "id": "88f61299",
   "metadata": {},
   "outputs": [
    {
     "name": "stdout",
     "output_type": "stream",
     "text": [
      "This is function Good bye\n"
     ]
    }
   ],
   "source": [
    "def outer(msg):\n",
    "    def inner():\n",
    "        print(f\"This is function {msg}\")\n",
    "    return inner\n",
    "\n",
    "var = outer(\"Good bye\")\n",
    "var()"
   ]
  },
  {
   "cell_type": "code",
   "execution_count": 26,
   "id": "dc7ddd60",
   "metadata": {},
   "outputs": [
    {
     "name": "stdout",
     "output_type": "stream",
     "text": [
      "Im calling main function\n",
      "This is function 1\n",
      "Im calling main function\n",
      "This is function 2\n"
     ]
    }
   ],
   "source": [
    "#decorators --> to increase the functionalithy of other function\n",
    "def decorator(any_function):\n",
    "    def wrapper():\n",
    "        print(\"Im calling main function\")\n",
    "        any_function()\n",
    "    return wrapper\n",
    "\n",
    "\n",
    "def funct1():\n",
    "    print(\"This is function 1\")\n",
    "\n",
    "    \n",
    "def funct2():\n",
    "    print(\"This is function 2\")\n",
    "    \n",
    "    \n",
    "var = decorator(funct1)\n",
    "var()\n",
    "var1 = decorator(funct2)\n",
    "var1()"
   ]
  },
  {
   "cell_type": "code",
   "execution_count": 27,
   "id": "03f23c5e",
   "metadata": {},
   "outputs": [
    {
     "name": "stdout",
     "output_type": "stream",
     "text": [
      "Im calling main function\n",
      "This is function 1\n",
      "Im calling main function\n",
      "This is function 2\n"
     ]
    }
   ],
   "source": [
    "def decorator(any_function):\n",
    "    def wrapper():\n",
    "        print(\"Im calling main function\")\n",
    "        any_function()\n",
    "    return wrapper\n",
    "\n",
    "@decorator\n",
    "def funct1():\n",
    "    print(\"This is function 1\")\n",
    "\n",
    "@decorator\n",
    "def funct2():\n",
    "    print(\"This is function 2\")\n",
    "    \n",
    "    \n",
    "funct1()\n",
    "funct2()"
   ]
  },
  {
   "cell_type": "code",
   "execution_count": 28,
   "id": "ff9b272f",
   "metadata": {},
   "outputs": [
    {
     "name": "stdout",
     "output_type": "stream",
     "text": [
      "Im calling main function\n",
      "8\n"
     ]
    }
   ],
   "source": [
    "def decorator(any_function):\n",
    "    def wrapper(*args,**wkargs):\n",
    "        print(\"Im calling main function\")\n",
    "        return any_function(*args,**wkargs)\n",
    "    return wrapper\n",
    "\n",
    "@decorator\n",
    "def funct1():\n",
    "    print(\"This is function 1\")\n",
    "    \n",
    "@decorator\n",
    "def add(a,b):\n",
    "    return a+b\n",
    "print(add(2,6))"
   ]
  },
  {
   "cell_type": "code",
   "execution_count": 33,
   "id": "81a16055",
   "metadata": {},
   "outputs": [
    {
     "name": "stdout",
     "output_type": "stream",
     "text": [
      "Im calling main function\n",
      "11\n"
     ]
    }
   ],
   "source": [
    "def decorator(any_function):\n",
    "    def wrapper(*args,**wkargs):\n",
    "        print(\"Im calling main function\")\n",
    "        any_function(*args,**wkargs)\n",
    "    return wrapper\n",
    "\n",
    "@decorator\n",
    "def funct1():\n",
    "    print(\"This is function 1\")\n",
    "    \n",
    "@decorator\n",
    "def add(a,b):\n",
    "    print(a+b)\n",
    "add(5,6)"
   ]
  },
  {
   "cell_type": "code",
   "execution_count": null,
   "id": "525af356",
   "metadata": {},
   "outputs": [],
   "source": []
  }
 ],
 "metadata": {
  "kernelspec": {
   "display_name": "Python 3 (ipykernel)",
   "language": "python",
   "name": "python3"
  },
  "language_info": {
   "codemirror_mode": {
    "name": "ipython",
    "version": 3
   },
   "file_extension": ".py",
   "mimetype": "text/x-python",
   "name": "python",
   "nbconvert_exporter": "python",
   "pygments_lexer": "ipython3",
   "version": "3.9.12"
  }
 },
 "nbformat": 4,
 "nbformat_minor": 5
}
